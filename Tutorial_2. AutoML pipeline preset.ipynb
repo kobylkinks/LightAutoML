{
 "cells": [
  {
   "cell_type": "markdown",
   "metadata": {},
   "source": [
    "# Step 0.1. Import necessary libraries "
   ]
  },
  {
   "cell_type": "code",
   "execution_count": 1,
   "metadata": {},
   "outputs": [],
   "source": [
    "# Standard python libraries\n",
    "import logging\n",
    "import os\n",
    "import time\n",
    "logging.basicConfig(format='[%(asctime)s] (%(levelname)s): %(message)s', level=logging.INFO)\n",
    "\n",
    "# Installed libraries\n",
    "import numpy as np\n",
    "import pandas as pd\n",
    "from sklearn.metrics import roc_auc_score\n",
    "from sklearn.model_selection import train_test_split\n",
    "import torch\n",
    "\n",
    "# Imports from our package\n",
    "from lightautoml.automl.presets.tabular_presets import TabularAutoML, TabularUtilizedAutoML\n",
    "from lightautoml.dataset.roles import DatetimeRole\n",
    "from lightautoml.tasks import Task\n",
    "from lightautoml.utils.profiler import Profiler"
   ]
  },
  {
   "cell_type": "markdown",
   "metadata": {},
   "source": [
    "# Step 0.2. Parameters "
   ]
  },
  {
   "cell_type": "code",
   "execution_count": 2,
   "metadata": {},
   "outputs": [],
   "source": [
    "N_THREADS = 8 # threads cnt for lgbm and linear models\n",
    "N_FOLDS = 5 # folds cnt for AutoML\n",
    "RANDOM_STATE = 42 # fixed random state for various reasons\n",
    "TEST_SIZE = 0.2 # Test size for metric check\n",
    "TIMEOUT = 300 # Time in seconds for automl run\n",
    "TARGET_NAME = 'TARGET' # Target column name"
   ]
  },
  {
   "cell_type": "markdown",
   "metadata": {},
   "source": [
    "# Step 0.3. Fix torch number of threads and numpy seed "
   ]
  },
  {
   "cell_type": "code",
   "execution_count": 3,
   "metadata": {},
   "outputs": [],
   "source": [
    "np.random.seed(RANDOM_STATE)\n",
    "torch.set_num_threads(N_THREADS)"
   ]
  },
  {
   "cell_type": "markdown",
   "metadata": {},
   "source": [
    "# Step 0.4. Change profiling decorators settings "
   ]
  },
  {
   "cell_type": "markdown",
   "metadata": {},
   "source": [
    "By default, profiling decorators are turned off for speed and memory reduction. If you want to see profiling report after using LAMA, you need to turn on the decorators using command below: "
   ]
  },
  {
   "cell_type": "code",
   "execution_count": 4,
   "metadata": {},
   "outputs": [],
   "source": [
    "p = Profiler()\n",
    "p.change_deco_settings({'enabled': True})"
   ]
  },
  {
   "cell_type": "markdown",
   "metadata": {},
   "source": [
    "# Step 0.5. Example data load "
   ]
  },
  {
   "cell_type": "code",
   "execution_count": 5,
   "metadata": {},
   "outputs": [
    {
     "name": "stdout",
     "output_type": "stream",
     "text": [
      "Wall time: 130 ms\n"
     ]
    },
    {
     "data": {
      "text/html": [
       "<div>\n",
       "<style scoped>\n",
       "    .dataframe tbody tr th:only-of-type {\n",
       "        vertical-align: middle;\n",
       "    }\n",
       "\n",
       "    .dataframe tbody tr th {\n",
       "        vertical-align: top;\n",
       "    }\n",
       "\n",
       "    .dataframe thead th {\n",
       "        text-align: right;\n",
       "    }\n",
       "</style>\n",
       "<table border=\"1\" class=\"dataframe\">\n",
       "  <thead>\n",
       "    <tr style=\"text-align: right;\">\n",
       "      <th></th>\n",
       "      <th>SK_ID_CURR</th>\n",
       "      <th>TARGET</th>\n",
       "      <th>NAME_CONTRACT_TYPE</th>\n",
       "      <th>CODE_GENDER</th>\n",
       "      <th>FLAG_OWN_CAR</th>\n",
       "      <th>FLAG_OWN_REALTY</th>\n",
       "      <th>CNT_CHILDREN</th>\n",
       "      <th>AMT_INCOME_TOTAL</th>\n",
       "      <th>AMT_CREDIT</th>\n",
       "      <th>AMT_ANNUITY</th>\n",
       "      <th>...</th>\n",
       "      <th>FLAG_DOCUMENT_18</th>\n",
       "      <th>FLAG_DOCUMENT_19</th>\n",
       "      <th>FLAG_DOCUMENT_20</th>\n",
       "      <th>FLAG_DOCUMENT_21</th>\n",
       "      <th>AMT_REQ_CREDIT_BUREAU_HOUR</th>\n",
       "      <th>AMT_REQ_CREDIT_BUREAU_DAY</th>\n",
       "      <th>AMT_REQ_CREDIT_BUREAU_WEEK</th>\n",
       "      <th>AMT_REQ_CREDIT_BUREAU_MON</th>\n",
       "      <th>AMT_REQ_CREDIT_BUREAU_QRT</th>\n",
       "      <th>AMT_REQ_CREDIT_BUREAU_YEAR</th>\n",
       "    </tr>\n",
       "  </thead>\n",
       "  <tbody>\n",
       "    <tr>\n",
       "      <th>0</th>\n",
       "      <td>313802</td>\n",
       "      <td>0</td>\n",
       "      <td>Cash loans</td>\n",
       "      <td>M</td>\n",
       "      <td>N</td>\n",
       "      <td>Y</td>\n",
       "      <td>0</td>\n",
       "      <td>270000.0</td>\n",
       "      <td>327024.0</td>\n",
       "      <td>15372.0</td>\n",
       "      <td>...</td>\n",
       "      <td>0</td>\n",
       "      <td>0</td>\n",
       "      <td>0</td>\n",
       "      <td>0</td>\n",
       "      <td>0.0</td>\n",
       "      <td>0.0</td>\n",
       "      <td>0.0</td>\n",
       "      <td>0.0</td>\n",
       "      <td>0.0</td>\n",
       "      <td>1.0</td>\n",
       "    </tr>\n",
       "    <tr>\n",
       "      <th>1</th>\n",
       "      <td>319656</td>\n",
       "      <td>0</td>\n",
       "      <td>Cash loans</td>\n",
       "      <td>F</td>\n",
       "      <td>N</td>\n",
       "      <td>N</td>\n",
       "      <td>0</td>\n",
       "      <td>108000.0</td>\n",
       "      <td>675000.0</td>\n",
       "      <td>19737.0</td>\n",
       "      <td>...</td>\n",
       "      <td>0</td>\n",
       "      <td>0</td>\n",
       "      <td>0</td>\n",
       "      <td>0</td>\n",
       "      <td>0.0</td>\n",
       "      <td>0.0</td>\n",
       "      <td>0.0</td>\n",
       "      <td>0.0</td>\n",
       "      <td>0.0</td>\n",
       "      <td>0.0</td>\n",
       "    </tr>\n",
       "    <tr>\n",
       "      <th>2</th>\n",
       "      <td>207678</td>\n",
       "      <td>0</td>\n",
       "      <td>Revolving loans</td>\n",
       "      <td>F</td>\n",
       "      <td>Y</td>\n",
       "      <td>Y</td>\n",
       "      <td>2</td>\n",
       "      <td>112500.0</td>\n",
       "      <td>270000.0</td>\n",
       "      <td>13500.0</td>\n",
       "      <td>...</td>\n",
       "      <td>0</td>\n",
       "      <td>0</td>\n",
       "      <td>0</td>\n",
       "      <td>0</td>\n",
       "      <td>0.0</td>\n",
       "      <td>0.0</td>\n",
       "      <td>0.0</td>\n",
       "      <td>0.0</td>\n",
       "      <td>0.0</td>\n",
       "      <td>1.0</td>\n",
       "    </tr>\n",
       "    <tr>\n",
       "      <th>3</th>\n",
       "      <td>381593</td>\n",
       "      <td>0</td>\n",
       "      <td>Cash loans</td>\n",
       "      <td>F</td>\n",
       "      <td>N</td>\n",
       "      <td>N</td>\n",
       "      <td>1</td>\n",
       "      <td>67500.0</td>\n",
       "      <td>142200.0</td>\n",
       "      <td>9630.0</td>\n",
       "      <td>...</td>\n",
       "      <td>0</td>\n",
       "      <td>0</td>\n",
       "      <td>0</td>\n",
       "      <td>0</td>\n",
       "      <td>0.0</td>\n",
       "      <td>0.0</td>\n",
       "      <td>0.0</td>\n",
       "      <td>0.0</td>\n",
       "      <td>0.0</td>\n",
       "      <td>4.0</td>\n",
       "    </tr>\n",
       "    <tr>\n",
       "      <th>4</th>\n",
       "      <td>258153</td>\n",
       "      <td>0</td>\n",
       "      <td>Cash loans</td>\n",
       "      <td>F</td>\n",
       "      <td>Y</td>\n",
       "      <td>Y</td>\n",
       "      <td>0</td>\n",
       "      <td>337500.0</td>\n",
       "      <td>1483231.5</td>\n",
       "      <td>46570.5</td>\n",
       "      <td>...</td>\n",
       "      <td>0</td>\n",
       "      <td>0</td>\n",
       "      <td>0</td>\n",
       "      <td>0</td>\n",
       "      <td>0.0</td>\n",
       "      <td>0.0</td>\n",
       "      <td>0.0</td>\n",
       "      <td>2.0</td>\n",
       "      <td>0.0</td>\n",
       "      <td>0.0</td>\n",
       "    </tr>\n",
       "  </tbody>\n",
       "</table>\n",
       "<p>5 rows × 122 columns</p>\n",
       "</div>"
      ],
      "text/plain": [
       "   SK_ID_CURR  TARGET NAME_CONTRACT_TYPE CODE_GENDER FLAG_OWN_CAR  \\\n",
       "0      313802       0         Cash loans           M            N   \n",
       "1      319656       0         Cash loans           F            N   \n",
       "2      207678       0    Revolving loans           F            Y   \n",
       "3      381593       0         Cash loans           F            N   \n",
       "4      258153       0         Cash loans           F            Y   \n",
       "\n",
       "  FLAG_OWN_REALTY  CNT_CHILDREN  AMT_INCOME_TOTAL  AMT_CREDIT  AMT_ANNUITY  \\\n",
       "0               Y             0          270000.0    327024.0      15372.0   \n",
       "1               N             0          108000.0    675000.0      19737.0   \n",
       "2               Y             2          112500.0    270000.0      13500.0   \n",
       "3               N             1           67500.0    142200.0       9630.0   \n",
       "4               Y             0          337500.0   1483231.5      46570.5   \n",
       "\n",
       "   ...  FLAG_DOCUMENT_18 FLAG_DOCUMENT_19 FLAG_DOCUMENT_20 FLAG_DOCUMENT_21  \\\n",
       "0  ...                 0                0                0                0   \n",
       "1  ...                 0                0                0                0   \n",
       "2  ...                 0                0                0                0   \n",
       "3  ...                 0                0                0                0   \n",
       "4  ...                 0                0                0                0   \n",
       "\n",
       "  AMT_REQ_CREDIT_BUREAU_HOUR AMT_REQ_CREDIT_BUREAU_DAY  \\\n",
       "0                        0.0                       0.0   \n",
       "1                        0.0                       0.0   \n",
       "2                        0.0                       0.0   \n",
       "3                        0.0                       0.0   \n",
       "4                        0.0                       0.0   \n",
       "\n",
       "   AMT_REQ_CREDIT_BUREAU_WEEK  AMT_REQ_CREDIT_BUREAU_MON  \\\n",
       "0                         0.0                        0.0   \n",
       "1                         0.0                        0.0   \n",
       "2                         0.0                        0.0   \n",
       "3                         0.0                        0.0   \n",
       "4                         0.0                        2.0   \n",
       "\n",
       "   AMT_REQ_CREDIT_BUREAU_QRT  AMT_REQ_CREDIT_BUREAU_YEAR  \n",
       "0                        0.0                         1.0  \n",
       "1                        0.0                         0.0  \n",
       "2                        0.0                         1.0  \n",
       "3                        0.0                         4.0  \n",
       "4                        0.0                         0.0  \n",
       "\n",
       "[5 rows x 122 columns]"
      ]
     },
     "execution_count": 5,
     "metadata": {},
     "output_type": "execute_result"
    }
   ],
   "source": [
    "%%time\n",
    "\n",
    "data = pd.read_csv('./example_data/test_data_files/sampled_app_train.csv')\n",
    "data.head()"
   ]
  },
  {
   "cell_type": "markdown",
   "metadata": {},
   "source": [
    "# Step 0.6. (Optional) Some user feature preparation "
   ]
  },
  {
   "cell_type": "markdown",
   "metadata": {},
   "source": [
    "Cell below shows some user feature preparations to create task more difficult (this block can be omitted if you don't want to change the initial data):"
   ]
  },
  {
   "cell_type": "code",
   "execution_count": 6,
   "metadata": {},
   "outputs": [
    {
     "name": "stderr",
     "output_type": "stream",
     "text": [
      "[2020-12-29 19:52:56,930] (INFO): NumExpr defaulting to 8 threads.\n"
     ]
    },
    {
     "name": "stdout",
     "output_type": "stream",
     "text": [
      "Wall time: 202 ms\n"
     ]
    }
   ],
   "source": [
    "%%time\n",
    "\n",
    "data['BIRTH_DATE'] = (np.datetime64('2018-01-01') + data['DAYS_BIRTH'].astype(np.dtype('timedelta64[D]'))).astype(str)\n",
    "data['EMP_DATE'] = (np.datetime64('2018-01-01') + np.clip(data['DAYS_EMPLOYED'], None, 0).astype(np.dtype('timedelta64[D]'))\n",
    "                    ).astype(str)\n",
    "\n",
    "data['constant'] = 1\n",
    "data['allnan'] = np.nan\n",
    "\n",
    "data['report_dt'] = np.datetime64('2018-01-01')\n",
    "\n",
    "data.drop(['DAYS_BIRTH', 'DAYS_EMPLOYED'], axis=1, inplace=True)"
   ]
  },
  {
   "cell_type": "markdown",
   "metadata": {},
   "source": [
    "# Step 0.7. (Optional) Data splitting for train-test "
   ]
  },
  {
   "cell_type": "markdown",
   "metadata": {},
   "source": [
    "Block below can be omitted if you are going to train model only or you have specific train and test files:"
   ]
  },
  {
   "cell_type": "code",
   "execution_count": 7,
   "metadata": {},
   "outputs": [
    {
     "name": "stderr",
     "output_type": "stream",
     "text": [
      "[2020-12-29 19:52:57,072] (INFO): Data splitted. Parts sizes: train_data = (8000, 125), test_data = (2000, 125)\n"
     ]
    },
    {
     "name": "stdout",
     "output_type": "stream",
     "text": [
      "Wall time: 18 ms\n"
     ]
    }
   ],
   "source": [
    "%%time\n",
    "\n",
    "train_data, test_data = train_test_split(data, \n",
    "                                         test_size=TEST_SIZE, \n",
    "                                         stratify=data[TARGET_NAME], \n",
    "                                         random_state=RANDOM_STATE)\n",
    "logging.info('Data splitted. Parts sizes: train_data = {}, test_data = {}'\n",
    "              .format(train_data.shape, test_data.shape))"
   ]
  },
  {
   "cell_type": "code",
   "execution_count": 8,
   "metadata": {},
   "outputs": [
    {
     "data": {
      "text/html": [
       "<div>\n",
       "<style scoped>\n",
       "    .dataframe tbody tr th:only-of-type {\n",
       "        vertical-align: middle;\n",
       "    }\n",
       "\n",
       "    .dataframe tbody tr th {\n",
       "        vertical-align: top;\n",
       "    }\n",
       "\n",
       "    .dataframe thead th {\n",
       "        text-align: right;\n",
       "    }\n",
       "</style>\n",
       "<table border=\"1\" class=\"dataframe\">\n",
       "  <thead>\n",
       "    <tr style=\"text-align: right;\">\n",
       "      <th></th>\n",
       "      <th>SK_ID_CURR</th>\n",
       "      <th>TARGET</th>\n",
       "      <th>NAME_CONTRACT_TYPE</th>\n",
       "      <th>CODE_GENDER</th>\n",
       "      <th>FLAG_OWN_CAR</th>\n",
       "      <th>FLAG_OWN_REALTY</th>\n",
       "      <th>CNT_CHILDREN</th>\n",
       "      <th>AMT_INCOME_TOTAL</th>\n",
       "      <th>AMT_CREDIT</th>\n",
       "      <th>AMT_ANNUITY</th>\n",
       "      <th>...</th>\n",
       "      <th>AMT_REQ_CREDIT_BUREAU_DAY</th>\n",
       "      <th>AMT_REQ_CREDIT_BUREAU_WEEK</th>\n",
       "      <th>AMT_REQ_CREDIT_BUREAU_MON</th>\n",
       "      <th>AMT_REQ_CREDIT_BUREAU_QRT</th>\n",
       "      <th>AMT_REQ_CREDIT_BUREAU_YEAR</th>\n",
       "      <th>BIRTH_DATE</th>\n",
       "      <th>EMP_DATE</th>\n",
       "      <th>constant</th>\n",
       "      <th>allnan</th>\n",
       "      <th>report_dt</th>\n",
       "    </tr>\n",
       "  </thead>\n",
       "  <tbody>\n",
       "    <tr>\n",
       "      <th>6444</th>\n",
       "      <td>112261</td>\n",
       "      <td>0</td>\n",
       "      <td>Cash loans</td>\n",
       "      <td>F</td>\n",
       "      <td>N</td>\n",
       "      <td>N</td>\n",
       "      <td>1</td>\n",
       "      <td>90000.0</td>\n",
       "      <td>640080.0</td>\n",
       "      <td>31261.5</td>\n",
       "      <td>...</td>\n",
       "      <td>0.0</td>\n",
       "      <td>0.0</td>\n",
       "      <td>0.0</td>\n",
       "      <td>1.0</td>\n",
       "      <td>0.0</td>\n",
       "      <td>1985-06-28</td>\n",
       "      <td>2012-06-21</td>\n",
       "      <td>1</td>\n",
       "      <td>NaN</td>\n",
       "      <td>2018-01-01</td>\n",
       "    </tr>\n",
       "    <tr>\n",
       "      <th>3586</th>\n",
       "      <td>115058</td>\n",
       "      <td>0</td>\n",
       "      <td>Cash loans</td>\n",
       "      <td>F</td>\n",
       "      <td>N</td>\n",
       "      <td>Y</td>\n",
       "      <td>0</td>\n",
       "      <td>180000.0</td>\n",
       "      <td>239850.0</td>\n",
       "      <td>23850.0</td>\n",
       "      <td>...</td>\n",
       "      <td>0.0</td>\n",
       "      <td>0.0</td>\n",
       "      <td>0.0</td>\n",
       "      <td>0.0</td>\n",
       "      <td>3.0</td>\n",
       "      <td>1953-12-27</td>\n",
       "      <td>2018-01-01</td>\n",
       "      <td>1</td>\n",
       "      <td>NaN</td>\n",
       "      <td>2018-01-01</td>\n",
       "    </tr>\n",
       "    <tr>\n",
       "      <th>9349</th>\n",
       "      <td>326623</td>\n",
       "      <td>0</td>\n",
       "      <td>Cash loans</td>\n",
       "      <td>F</td>\n",
       "      <td>N</td>\n",
       "      <td>Y</td>\n",
       "      <td>0</td>\n",
       "      <td>112500.0</td>\n",
       "      <td>337500.0</td>\n",
       "      <td>31086.0</td>\n",
       "      <td>...</td>\n",
       "      <td>0.0</td>\n",
       "      <td>0.0</td>\n",
       "      <td>0.0</td>\n",
       "      <td>0.0</td>\n",
       "      <td>2.0</td>\n",
       "      <td>1975-06-21</td>\n",
       "      <td>2016-06-17</td>\n",
       "      <td>1</td>\n",
       "      <td>NaN</td>\n",
       "      <td>2018-01-01</td>\n",
       "    </tr>\n",
       "    <tr>\n",
       "      <th>7734</th>\n",
       "      <td>191976</td>\n",
       "      <td>0</td>\n",
       "      <td>Cash loans</td>\n",
       "      <td>M</td>\n",
       "      <td>Y</td>\n",
       "      <td>Y</td>\n",
       "      <td>1</td>\n",
       "      <td>67500.0</td>\n",
       "      <td>135000.0</td>\n",
       "      <td>9018.0</td>\n",
       "      <td>...</td>\n",
       "      <td>NaN</td>\n",
       "      <td>NaN</td>\n",
       "      <td>NaN</td>\n",
       "      <td>NaN</td>\n",
       "      <td>NaN</td>\n",
       "      <td>1988-04-27</td>\n",
       "      <td>2009-06-05</td>\n",
       "      <td>1</td>\n",
       "      <td>NaN</td>\n",
       "      <td>2018-01-01</td>\n",
       "    </tr>\n",
       "    <tr>\n",
       "      <th>2174</th>\n",
       "      <td>281519</td>\n",
       "      <td>0</td>\n",
       "      <td>Revolving loans</td>\n",
       "      <td>F</td>\n",
       "      <td>N</td>\n",
       "      <td>Y</td>\n",
       "      <td>0</td>\n",
       "      <td>67500.0</td>\n",
       "      <td>202500.0</td>\n",
       "      <td>10125.0</td>\n",
       "      <td>...</td>\n",
       "      <td>0.0</td>\n",
       "      <td>0.0</td>\n",
       "      <td>0.0</td>\n",
       "      <td>0.0</td>\n",
       "      <td>2.0</td>\n",
       "      <td>1975-06-13</td>\n",
       "      <td>1997-01-22</td>\n",
       "      <td>1</td>\n",
       "      <td>NaN</td>\n",
       "      <td>2018-01-01</td>\n",
       "    </tr>\n",
       "  </tbody>\n",
       "</table>\n",
       "<p>5 rows × 125 columns</p>\n",
       "</div>"
      ],
      "text/plain": [
       "      SK_ID_CURR  TARGET NAME_CONTRACT_TYPE CODE_GENDER FLAG_OWN_CAR  \\\n",
       "6444      112261       0         Cash loans           F            N   \n",
       "3586      115058       0         Cash loans           F            N   \n",
       "9349      326623       0         Cash loans           F            N   \n",
       "7734      191976       0         Cash loans           M            Y   \n",
       "2174      281519       0    Revolving loans           F            N   \n",
       "\n",
       "     FLAG_OWN_REALTY  CNT_CHILDREN  AMT_INCOME_TOTAL  AMT_CREDIT  AMT_ANNUITY  \\\n",
       "6444               N             1           90000.0    640080.0      31261.5   \n",
       "3586               Y             0          180000.0    239850.0      23850.0   \n",
       "9349               Y             0          112500.0    337500.0      31086.0   \n",
       "7734               Y             1           67500.0    135000.0       9018.0   \n",
       "2174               Y             0           67500.0    202500.0      10125.0   \n",
       "\n",
       "      ...  AMT_REQ_CREDIT_BUREAU_DAY AMT_REQ_CREDIT_BUREAU_WEEK  \\\n",
       "6444  ...                        0.0                        0.0   \n",
       "3586  ...                        0.0                        0.0   \n",
       "9349  ...                        0.0                        0.0   \n",
       "7734  ...                        NaN                        NaN   \n",
       "2174  ...                        0.0                        0.0   \n",
       "\n",
       "     AMT_REQ_CREDIT_BUREAU_MON AMT_REQ_CREDIT_BUREAU_QRT  \\\n",
       "6444                       0.0                       1.0   \n",
       "3586                       0.0                       0.0   \n",
       "9349                       0.0                       0.0   \n",
       "7734                       NaN                       NaN   \n",
       "2174                       0.0                       0.0   \n",
       "\n",
       "     AMT_REQ_CREDIT_BUREAU_YEAR  BIRTH_DATE    EMP_DATE  constant  allnan  \\\n",
       "6444                        0.0  1985-06-28  2012-06-21         1     NaN   \n",
       "3586                        3.0  1953-12-27  2018-01-01         1     NaN   \n",
       "9349                        2.0  1975-06-21  2016-06-17         1     NaN   \n",
       "7734                        NaN  1988-04-27  2009-06-05         1     NaN   \n",
       "2174                        2.0  1975-06-13  1997-01-22         1     NaN   \n",
       "\n",
       "      report_dt  \n",
       "6444 2018-01-01  \n",
       "3586 2018-01-01  \n",
       "9349 2018-01-01  \n",
       "7734 2018-01-01  \n",
       "2174 2018-01-01  \n",
       "\n",
       "[5 rows x 125 columns]"
      ]
     },
     "execution_count": 8,
     "metadata": {},
     "output_type": "execute_result"
    }
   ],
   "source": [
    "train_data.head()"
   ]
  },
  {
   "cell_type": "markdown",
   "metadata": {},
   "source": [
    "# ========= AutoML preset usage =========\n",
    "\n",
    "\n",
    "## Step 1. Create Task"
   ]
  },
  {
   "cell_type": "code",
   "execution_count": 9,
   "metadata": {},
   "outputs": [
    {
     "name": "stdout",
     "output_type": "stream",
     "text": [
      "Wall time: 4.97 ms\n"
     ]
    }
   ],
   "source": [
    "%%time\n",
    "\n",
    "task = Task('binary', )"
   ]
  },
  {
   "cell_type": "markdown",
   "metadata": {},
   "source": [
    "## Step 2. Setup columns roles"
   ]
  },
  {
   "cell_type": "markdown",
   "metadata": {},
   "source": [
    "Roles setup here set target column and base date, which is used to calculate date differences:"
   ]
  },
  {
   "cell_type": "code",
   "execution_count": 10,
   "metadata": {},
   "outputs": [
    {
     "name": "stdout",
     "output_type": "stream",
     "text": [
      "Wall time: 0 ns\n"
     ]
    }
   ],
   "source": [
    "%%time\n",
    "\n",
    "roles = {'target': TARGET_NAME,\n",
    "         DatetimeRole(base_date=True, seasonality=(), base_feats=False): 'report_dt',\n",
    "         }"
   ]
  },
  {
   "cell_type": "markdown",
   "metadata": {},
   "source": [
    "## Step 3. Create AutoML from preset"
   ]
  },
  {
   "cell_type": "markdown",
   "metadata": {},
   "source": [
    "To create AutoML model here we use `TabularAutoML` preset, which looks like:\n",
    "\n",
    "![TabularAutoML preset pipeline](imgs/tutorial_2_pipeline.png)\n",
    "\n",
    "All params we set above can be send inside preset to change its configuration:"
   ]
  },
  {
   "cell_type": "code",
   "execution_count": 11,
   "metadata": {
    "scrolled": false
   },
   "outputs": [
    {
     "name": "stderr",
     "output_type": "stream",
     "text": [
      "Copying TaskTimer may affect the parent PipelineTimer, so copy will create new unlimited TaskTimer\n"
     ]
    },
    {
     "name": "stdout",
     "output_type": "stream",
     "text": [
      "Start automl preset with listed constraints:\n",
      "- time: 300 seconds\n",
      "- cpus: 4 cores\n",
      "- memory: 16 gb\n",
      "\n",
      "\n",
      "Train data shape: (8000, 125)\n",
      "Feats was rejected during automatic roles guess: []\n",
      "\n",
      "\n",
      "Layer 1 ...\n",
      "Train process start. Time left 296.85083985328674 secs\n",
      "Start fitting Lvl_0_Pipe_0_Mod_0_LinearL2 ...\n",
      "Linear model: C = 1e-05 score = 0.6871134489044266\n",
      "Linear model: C = 5e-05 score = 0.7049890148660134\n",
      "Linear model: C = 0.0001 score = 0.7231478957187378\n",
      "Linear model: C = 0.0005 score = 0.7541949313362306\n",
      "Linear model: C = 0.001 score = 0.7613472959464588\n",
      "Linear model: C = 0.005 score = 0.7633411913123894\n",
      "Linear model: C = 0.01 score = 0.7602514553297945\n",
      "Linear model: C = 0.05 score = 0.7480582238829107\n",
      "Linear model: C = 1e-05 score = 0.7097380264945652\n",
      "Linear model: C = 5e-05 score = 0.7196522588315217\n",
      "Linear model: C = 0.0001 score = 0.726806640625\n",
      "Linear model: C = 0.0005 score = 0.7401706861413043\n",
      "Linear model: C = 0.001 score = 0.7423785665760869\n",
      "Linear model: C = 0.005 score = 0.7421025815217392\n",
      "Linear model: C = 0.01 score = 0.7411897078804348\n",
      "Linear model: C = 1e-05 score = 0.6369045091711957\n",
      "Linear model: C = 5e-05 score = 0.6511761209239131\n",
      "Linear model: C = 0.0001 score = 0.6631337041440217\n",
      "Linear model: C = 0.0005 score = 0.6919688349184784\n",
      "Linear model: C = 0.001 score = 0.7008322010869565\n",
      "Linear model: C = 0.005 score = 0.7106296705163043\n",
      "Linear model: C = 0.01 score = 0.7091807489809783\n",
      "Linear model: C = 0.05 score = 0.6999299422554349\n",
      "Linear model: C = 1e-05 score = 0.6700306768002717\n",
      "Linear model: C = 5e-05 score = 0.6780050526494565\n",
      "Linear model: C = 0.0001 score = 0.6857379415760869\n",
      "Linear model: C = 0.0005 score = 0.7090692934782608\n",
      "Linear model: C = 0.001 score = 0.7175027598505435\n",
      "Linear model: C = 0.005 score = 0.7229322350543478\n",
      "Linear model: C = 0.01 score = 0.7184846297554348\n",
      "Linear model: C = 0.05 score = 0.7010869565217391\n",
      "Linear model: C = 1e-05 score = 0.6853345788043478\n",
      "Linear model: C = 5e-05 score = 0.702286430027174\n",
      "Linear model: C = 0.0001 score = 0.7166535750679347\n",
      "Linear model: C = 0.0005 score = 0.7460353685461956\n",
      "Linear model: C = 0.001 score = 0.7525316321331521\n",
      "Linear model: C = 0.005 score = 0.7510084069293479\n",
      "Linear model: C = 0.01 score = 0.747054390285326\n",
      "Lvl_0_Pipe_0_Mod_0_LinearL2 fitting and predicting completed\n",
      "Time left 291.8088457584381\n",
      "Start fitting LightGBM ...\n",
      "Training until validation scores don't improve for 200 rounds\n",
      "[100]\tvalid's auc: 0.737356\n",
      "[200]\tvalid's auc: 0.744295\n",
      "[300]\tvalid's auc: 0.74948\n",
      "[400]\tvalid's auc: 0.752244\n",
      "[500]\tvalid's auc: 0.754692\n",
      "[600]\tvalid's auc: 0.755104\n",
      "[700]\tvalid's auc: 0.755018\n",
      "[800]\tvalid's auc: 0.7552\n",
      "Early stopping, best iteration is:\n",
      "[689]\tvalid's auc: 0.755713\n",
      "LightGBM fitting and predicting completed\n",
      "Start fitting Lvl_0_Pipe_1_Mod_0_LightGBM ...\n",
      "Training until validation scores don't improve for 200 rounds\n",
      "[100]\tvalid's auc: 0.753206\n",
      "[200]\tvalid's auc: 0.757712\n",
      "[300]\tvalid's auc: 0.759113\n",
      "[400]\tvalid's auc: 0.761625\n",
      "[500]\tvalid's auc: 0.761775\n",
      "[600]\tvalid's auc: 0.758626\n",
      "Early stopping, best iteration is:\n",
      "[420]\tvalid's auc: 0.763208\n",
      "Training until validation scores don't improve for 200 rounds\n",
      "[100]\tvalid's auc: 0.73714\n",
      "[200]\tvalid's auc: 0.736726\n",
      "Early stopping, best iteration is:\n",
      "[59]\tvalid's auc: 0.742787\n",
      "Training until validation scores don't improve for 200 rounds\n",
      "[100]\tvalid's auc: 0.722168\n",
      "[200]\tvalid's auc: 0.727454\n",
      "[300]\tvalid's auc: 0.731228\n",
      "[400]\tvalid's auc: 0.728516\n",
      "[500]\tvalid's auc: 0.728118\n",
      "Early stopping, best iteration is:\n",
      "[325]\tvalid's auc: 0.731398\n",
      "Training until validation scores don't improve for 200 rounds\n",
      "[100]\tvalid's auc: 0.735861\n",
      "[200]\tvalid's auc: 0.733064\n",
      "Early stopping, best iteration is:\n",
      "[76]\tvalid's auc: 0.736328\n",
      "Training until validation scores don't improve for 200 rounds\n",
      "[100]\tvalid's auc: 0.749533\n",
      "[200]\tvalid's auc: 0.749835\n",
      "Early stopping, best iteration is:\n",
      "[81]\tvalid's auc: 0.753445\n",
      "Lvl_0_Pipe_1_Mod_0_LightGBM fitting and predicting completed\n",
      "Optuna may run 211.97588658332825 secs\n"
     ]
    },
    {
     "name": "stderr",
     "output_type": "stream",
     "text": [
      "[2020-12-29 19:53:23,782] (INFO): A new study created in memory with name: no-name-69a7bc6b-3082-4e59-b76d-1b804aae157a\n"
     ]
    },
    {
     "name": "stdout",
     "output_type": "stream",
     "text": [
      "Start fitting Lvl_0_Pipe_1_Mod_1_LightGBM ...\n",
      "Training until validation scores don't improve for 200 rounds\n",
      "[100]\tvalid's auc: 0.742162\n",
      "[200]\tvalid's auc: 0.746348\n",
      "[300]\tvalid's auc: 0.752356\n",
      "[400]\tvalid's auc: 0.755585\n",
      "[500]\tvalid's auc: 0.756317\n",
      "[600]\tvalid's auc: 0.756884\n",
      "[700]\tvalid's auc: 0.75582\n",
      "[800]\tvalid's auc: 0.75528\n",
      "Early stopping, best iteration is:\n",
      "[626]\tvalid's auc: 0.757253\n",
      "Lvl_0_Pipe_1_Mod_1_LightGBM fitting and predicting completed\n"
     ]
    },
    {
     "name": "stderr",
     "output_type": "stream",
     "text": [
      "[2020-12-29 19:53:30,917] (INFO): Trial 0 finished with value: 0.7572525939349232 and parameters: {'feature_fraction': 0.6872700594236812, 'num_leaves': 108}. Best is trial 0 with value: 0.7572525939349232.\n"
     ]
    },
    {
     "name": "stdout",
     "output_type": "stream",
     "text": [
      "Start fitting Lvl_0_Pipe_1_Mod_1_LightGBM ...\n",
      "Training until validation scores don't improve for 200 rounds\n",
      "[100]\tvalid's auc: 0.746203\n",
      "[200]\tvalid's auc: 0.75234\n",
      "[300]\tvalid's auc: 0.753404\n",
      "[400]\tvalid's auc: 0.755376\n",
      "[500]\tvalid's auc: 0.756627\n",
      "[600]\tvalid's auc: 0.755125\n",
      "[700]\tvalid's auc: 0.754617\n",
      "Early stopping, best iteration is:\n",
      "[529]\tvalid's auc: 0.757215\n",
      "Lvl_0_Pipe_1_Mod_1_LightGBM fitting and predicting completed\n"
     ]
    },
    {
     "name": "stderr",
     "output_type": "stream",
     "text": [
      "[2020-12-29 19:53:36,571] (INFO): Trial 1 finished with value: 0.7572151749870369 and parameters: {'feature_fraction': 0.5917173949330818, 'num_leaves': 87}. Best is trial 0 with value: 0.7572525939349232.\n"
     ]
    },
    {
     "name": "stdout",
     "output_type": "stream",
     "text": [
      "Start fitting Lvl_0_Pipe_1_Mod_1_LightGBM ...\n",
      "Training until validation scores don't improve for 200 rounds\n",
      "[100]\tvalid's auc: 0.739944\n",
      "[200]\tvalid's auc: 0.743691\n",
      "Early stopping, best iteration is:\n",
      "[16]\tvalid's auc: 0.747016\n",
      "Lvl_0_Pipe_1_Mod_1_LightGBM fitting and predicting completed\n"
     ]
    },
    {
     "name": "stderr",
     "output_type": "stream",
     "text": [
      "[2020-12-29 19:53:38,669] (INFO): Trial 2 finished with value: 0.7470158389060837 and parameters: {'feature_fraction': 0.7993292420985183, 'num_leaves': 118}. Best is trial 0 with value: 0.7572525939349232.\n"
     ]
    },
    {
     "name": "stdout",
     "output_type": "stream",
     "text": [
      "Start fitting Lvl_0_Pipe_1_Mod_1_LightGBM ...\n",
      "Training until validation scores don't improve for 200 rounds\n",
      "[100]\tvalid's auc: 0.734742\n",
      "[200]\tvalid's auc: 0.739169\n",
      "Early stopping, best iteration is:\n",
      "[16]\tvalid's auc: 0.741964\n",
      "Lvl_0_Pipe_1_Mod_1_LightGBM fitting and predicting completed\n"
     ]
    },
    {
     "name": "stderr",
     "output_type": "stream",
     "text": [
      "[2020-12-29 19:53:40,666] (INFO): Trial 3 finished with value: 0.7419642809414607 and parameters: {'feature_fraction': 0.7229163764267956, 'num_leaves': 230}. Best is trial 0 with value: 0.7572525939349232.\n"
     ]
    },
    {
     "name": "stdout",
     "output_type": "stream",
     "text": [
      "Start fitting Lvl_0_Pipe_1_Mod_1_LightGBM ...\n",
      "Training until validation scores don't improve for 200 rounds\n",
      "[100]\tvalid's auc: 0.750041\n",
      "[200]\tvalid's auc: 0.746668\n",
      "[300]\tvalid's auc: 0.745145\n",
      "Early stopping, best iteration is:\n",
      "[100]\tvalid's auc: 0.750041\n",
      "Lvl_0_Pipe_1_Mod_1_LightGBM fitting and predicting completed\n"
     ]
    },
    {
     "name": "stderr",
     "output_type": "stream",
     "text": [
      "[2020-12-29 19:53:43,097] (INFO): Trial 4 finished with value: 0.7500414281208739 and parameters: {'feature_fraction': 0.5290418060840998, 'num_leaves': 103}. Best is trial 0 with value: 0.7572525939349232.\n"
     ]
    },
    {
     "name": "stdout",
     "output_type": "stream",
     "text": [
      "Start fitting Lvl_0_Pipe_1_Mod_1_LightGBM ...\n",
      "Training until validation scores don't improve for 200 rounds\n",
      "[100]\tvalid's auc: 0.737666\n",
      "[200]\tvalid's auc: 0.743386\n",
      "Early stopping, best iteration is:\n",
      "[29]\tvalid's auc: 0.747989\n",
      "Lvl_0_Pipe_1_Mod_1_LightGBM fitting and predicting completed\n"
     ]
    },
    {
     "name": "stderr",
     "output_type": "stream",
     "text": [
      "[2020-12-29 19:53:45,101] (INFO): Trial 5 finished with value: 0.7479887315511223 and parameters: {'feature_fraction': 0.6668543055695109, 'num_leaves': 119}. Best is trial 0 with value: 0.7572525939349232.\n"
     ]
    },
    {
     "name": "stdout",
     "output_type": "stream",
     "text": [
      "Start fitting Lvl_0_Pipe_1_Mod_1_LightGBM ...\n",
      "Training until validation scores don't improve for 200 rounds\n",
      "[100]\tvalid's auc: 0.740505\n",
      "[200]\tvalid's auc: 0.749534\n",
      "[300]\tvalid's auc: 0.750175\n",
      "[400]\tvalid's auc: 0.749908\n",
      "Early stopping, best iteration is:\n",
      "[270]\tvalid's auc: 0.752313\n",
      "Lvl_0_Pipe_1_Mod_1_LightGBM fitting and predicting completed\n"
     ]
    },
    {
     "name": "stderr",
     "output_type": "stream",
     "text": [
      "[2020-12-29 19:53:49,848] (INFO): Trial 6 finished with value: 0.7523132928139582 and parameters: {'feature_fraction': 0.8540362888980227, 'num_leaves': 165}. Best is trial 0 with value: 0.7572525939349232.\n"
     ]
    },
    {
     "name": "stdout",
     "output_type": "stream",
     "text": [
      "Start fitting Lvl_0_Pipe_1_Mod_1_LightGBM ...\n",
      "Training until validation scores don't improve for 200 rounds\n",
      "[100]\tvalid's auc: 0.750041\n",
      "[200]\tvalid's auc: 0.746668\n",
      "[300]\tvalid's auc: 0.745145\n",
      "Early stopping, best iteration is:\n",
      "[100]\tvalid's auc: 0.750041\n",
      "Lvl_0_Pipe_1_Mod_1_LightGBM fitting and predicting completed\n"
     ]
    },
    {
     "name": "stderr",
     "output_type": "stream",
     "text": [
      "[2020-12-29 19:53:52,135] (INFO): Trial 7 finished with value: 0.7500414281208739 and parameters: {'feature_fraction': 0.5282057895135501, 'num_leaves': 103}. Best is trial 0 with value: 0.7572525939349232.\n"
     ]
    },
    {
     "name": "stdout",
     "output_type": "stream",
     "text": [
      "Start fitting Lvl_0_Pipe_1_Mod_1_LightGBM ...\n",
      "Training until validation scores don't improve for 200 rounds\n",
      "[100]\tvalid's auc: 0.754366\n",
      "[200]\tvalid's auc: 0.765089\n",
      "[300]\tvalid's auc: 0.767933\n",
      "[400]\tvalid's auc: 0.768852\n",
      "[500]\tvalid's auc: 0.7699\n",
      "[600]\tvalid's auc: 0.767789\n",
      "[700]\tvalid's auc: 0.766794\n",
      "Early stopping, best iteration is:\n",
      "[527]\tvalid's auc: 0.770579\n",
      "Lvl_0_Pipe_1_Mod_1_LightGBM fitting and predicting completed\n"
     ]
    },
    {
     "name": "stderr",
     "output_type": "stream",
     "text": [
      "[2020-12-29 19:53:58,512] (INFO): Trial 8 finished with value: 0.7705790849463573 and parameters: {'feature_fraction': 0.9162213204002109, 'num_leaves': 53}. Best is trial 8 with value: 0.7705790849463573.\n"
     ]
    },
    {
     "name": "stdout",
     "output_type": "stream",
     "text": [
      "Start fitting Lvl_0_Pipe_1_Mod_1_LightGBM ...\n",
      "Training until validation scores don't improve for 100 rounds\n",
      "[100]\tvalid's auc: 0.745669\n",
      "Early stopping, best iteration is:\n",
      "[51]\tvalid's auc: 0.757568\n",
      "Training until validation scores don't improve for 100 rounds\n",
      "[100]\tvalid's auc: 0.719153\n",
      "[200]\tvalid's auc: 0.724758\n",
      "[300]\tvalid's auc: 0.726382\n",
      "Early stopping, best iteration is:\n",
      "[295]\tvalid's auc: 0.727438\n",
      "Training until validation scores don't improve for 100 rounds\n",
      "[100]\tvalid's auc: 0.717248\n",
      "Early stopping, best iteration is:\n",
      "[18]\tvalid's auc: 0.72208\n",
      "Training until validation scores don't improve for 100 rounds\n",
      "[100]\tvalid's auc: 0.727475\n",
      "Early stopping, best iteration is:\n",
      "[81]\tvalid's auc: 0.733467\n",
      "Training until validation scores don't improve for 100 rounds\n",
      "[100]\tvalid's auc: 0.745154\n",
      "Early stopping, best iteration is:\n",
      "[84]\tvalid's auc: 0.747516\n",
      "Lvl_0_Pipe_1_Mod_1_LightGBM fitting and predicting completed\n",
      "Time left 230.7673819065094\n",
      "Blending: Optimization starts with equal weights and score 0.750379011833078\n",
      "Blending, iter 0: score = 0.7504501263797977, weights = [0.3449247  0.33757222 0.31750306]\n",
      "Blending, iter 1: score = 0.7504447050914826, weights = [0.34907344 0.3354343  0.31549227]\n",
      "Blending, iter 2: score = 0.7504447050914826, weights = [0.34907344 0.3354343  0.31549227]\n",
      "No score update. Terminated\n",
      "\n",
      "\n",
      "Automl preset training completed in 69.56 seconds.\n"
     ]
    },
    {
     "name": "stderr",
     "output_type": "stream",
     "text": [
      "[2020-12-29 19:54:06,752] (INFO): oof_pred:\n",
      "array([[0.03324839],\n",
      "       [0.03636894],\n",
      "       [0.0360034 ],\n",
      "       ...,\n",
      "       [0.03097693],\n",
      "       [0.19479665],\n",
      "       [0.08057104]], dtype=float32)\n",
      "Shape = (8000, 1)\n"
     ]
    },
    {
     "name": "stdout",
     "output_type": "stream",
     "text": [
      "Wall time: 1min 9s\n"
     ]
    }
   ],
   "source": [
    "%%time \n",
    "\n",
    "automl = TabularAutoML(task = task, \n",
    "                       timeout = TIMEOUT,\n",
    "                       general_params = {'nested_cv': False, 'use_algos': [['linear_l2', 'lgb', 'lgb_tuned']]},\n",
    "                       reader_params = {'cv': N_FOLDS, 'random_state': RANDOM_STATE},\n",
    "                       tuning_params = {'max_tuning_iter': 20, 'max_tuning_time': 30},\n",
    "                       lgb_params = {'default_params': {'num_threads': N_THREADS}})\n",
    "oof_pred = automl.fit_predict(train_data, roles = roles)\n",
    "logging.info('oof_pred:\\n{}\\nShape = {}'.format(oof_pred, oof_pred.shape))"
   ]
  },
  {
   "cell_type": "markdown",
   "metadata": {},
   "source": [
    "## Step 4. Predict to test data and check scores"
   ]
  },
  {
   "cell_type": "code",
   "execution_count": 12,
   "metadata": {},
   "outputs": [
    {
     "name": "stderr",
     "output_type": "stream",
     "text": [
      "[2020-12-29 19:54:07,410] (INFO): Prediction for test data:\n",
      "array([[0.06259418],\n",
      "       [0.07673503],\n",
      "       [0.0326997 ],\n",
      "       ...,\n",
      "       [0.05875177],\n",
      "       [0.04640286],\n",
      "       [0.20436436]], dtype=float32)\n",
      "Shape = (2000, 1)\n",
      "[2020-12-29 19:54:07,411] (INFO): Check scores...\n",
      "[2020-12-29 19:54:07,415] (INFO): OOF score: 0.7504589492607807\n",
      "[2020-12-29 19:54:07,418] (INFO): TEST score: 0.7319565217391304\n"
     ]
    },
    {
     "name": "stdout",
     "output_type": "stream",
     "text": [
      "Wall time: 660 ms\n"
     ]
    }
   ],
   "source": [
    "%%time\n",
    "\n",
    "test_pred = automl.predict(test_data)\n",
    "logging.info('Prediction for test data:\\n{}\\nShape = {}'\n",
    "              .format(test_pred, test_pred.shape))\n",
    "\n",
    "logging.info('Check scores...')\n",
    "logging.info('OOF score: {}'.format(roc_auc_score(train_data[TARGET_NAME].values, oof_pred.data[:, 0])))\n",
    "logging.info('TEST score: {}'.format(roc_auc_score(test_data[TARGET_NAME].values, test_pred.data[:, 0])))"
   ]
  },
  {
   "cell_type": "markdown",
   "metadata": {},
   "source": [
    "## Step 5. Profiling AutoML "
   ]
  },
  {
   "cell_type": "markdown",
   "metadata": {},
   "source": [
    "To build report here, we **must** turn on decorators on step 0.4. Report is interactive and you can go as deep into functions call stack as you want:"
   ]
  },
  {
   "cell_type": "code",
   "execution_count": 13,
   "metadata": {
    "scrolled": true
   },
   "outputs": [
    {
     "ename": "AssertionError",
     "evalue": "Profiler calls graph has more than 1 connected component but it must be a tree...",
     "output_type": "error",
     "traceback": [
      "\u001b[1;31m---------------------------------------------------------------------------\u001b[0m",
      "\u001b[1;31mAssertionError\u001b[0m                            Traceback (most recent call last)",
      "\u001b[1;32m<timed exec>\u001b[0m in \u001b[0;36m<module>\u001b[1;34m\u001b[0m\n",
      "\u001b[1;32mD:\\LightAutoML\\lightautoml\\utils\\profiler.py\u001b[0m in \u001b[0;36mprofile\u001b[1;34m(self, report_path)\u001b[0m\n\u001b[0;32m    275\u001b[0m         \u001b[1;32mif\u001b[0m \u001b[0mself\u001b[0m\u001b[1;33m.\u001b[0m\u001b[0mfull_stats_df\u001b[0m \u001b[1;32mis\u001b[0m \u001b[1;32mNone\u001b[0m\u001b[1;33m:\u001b[0m\u001b[1;33m\u001b[0m\u001b[1;33m\u001b[0m\u001b[0m\n\u001b[0;32m    276\u001b[0m             \u001b[1;32mreturn\u001b[0m\u001b[1;33m\u001b[0m\u001b[1;33m\u001b[0m\u001b[0m\n\u001b[1;32m--> 277\u001b[1;33m         \u001b[0mself\u001b[0m\u001b[1;33m.\u001b[0m\u001b[0m_generate_and_check_calls_graph\u001b[0m\u001b[1;33m(\u001b[0m\u001b[1;33m)\u001b[0m\u001b[1;33m\u001b[0m\u001b[1;33m\u001b[0m\u001b[0m\n\u001b[0m\u001b[0;32m    278\u001b[0m         \u001b[0mself\u001b[0m\u001b[1;33m.\u001b[0m\u001b[0m_create_html_report\u001b[0m\u001b[1;33m(\u001b[0m\u001b[0mreport_path\u001b[0m\u001b[1;33m)\u001b[0m\u001b[1;33m\u001b[0m\u001b[1;33m\u001b[0m\u001b[0m\n\u001b[0;32m    279\u001b[0m \u001b[1;33m\u001b[0m\u001b[0m\n",
      "\u001b[1;32mD:\\LightAutoML\\lightautoml\\utils\\profiler.py\u001b[0m in \u001b[0;36m_generate_and_check_calls_graph\u001b[1;34m(self)\u001b[0m\n\u001b[0;32m    207\u001b[0m         \u001b[0mcc\u001b[0m \u001b[1;33m=\u001b[0m \u001b[0mlist\u001b[0m\u001b[1;33m(\u001b[0m\u001b[0mnx\u001b[0m\u001b[1;33m.\u001b[0m\u001b[0mconnected_components\u001b[0m\u001b[1;33m(\u001b[0m\u001b[0mself\u001b[0m\u001b[1;33m.\u001b[0m\u001b[0mprof_graph\u001b[0m\u001b[1;33m)\u001b[0m\u001b[1;33m)\u001b[0m\u001b[1;33m\u001b[0m\u001b[1;33m\u001b[0m\u001b[0m\n\u001b[0;32m    208\u001b[0m         \u001b[0mlogger\u001b[0m\u001b[1;33m.\u001b[0m\u001b[0mdebug\u001b[0m\u001b[1;33m(\u001b[0m\u001b[1;34m'CONNECTED COMPONENTS cnt = {}'\u001b[0m\u001b[1;33m.\u001b[0m\u001b[0mformat\u001b[0m\u001b[1;33m(\u001b[0m\u001b[0mlen\u001b[0m\u001b[1;33m(\u001b[0m\u001b[0mcc\u001b[0m\u001b[1;33m)\u001b[0m\u001b[1;33m)\u001b[0m\u001b[1;33m)\u001b[0m\u001b[1;33m\u001b[0m\u001b[1;33m\u001b[0m\u001b[0m\n\u001b[1;32m--> 209\u001b[1;33m         assert len(\n\u001b[0m\u001b[0;32m    210\u001b[0m             cc) == 1, 'Profiler calls graph has more than 1 connected component but it must be a tree...'\n\u001b[0;32m    211\u001b[0m \u001b[1;33m\u001b[0m\u001b[0m\n",
      "\u001b[1;31mAssertionError\u001b[0m: Profiler calls graph has more than 1 connected component but it must be a tree..."
     ]
    }
   ],
   "source": [
    "%%time\n",
    "p.profile('my_report_profile.html')\n",
    "assert os.path.exists('my_report_profile.html'), 'Profile report failed to build'"
   ]
  },
  {
   "cell_type": "markdown",
   "metadata": {},
   "source": [
    "## Step 6. Create AutoML with time utilization "
   ]
  },
  {
   "cell_type": "markdown",
   "metadata": {},
   "source": [
    "Below we are going to create specific AutoML preset for TIMEOUT utilization (try to spend it as much as possible):"
   ]
  },
  {
   "cell_type": "code",
   "execution_count": 14,
   "metadata": {
    "scrolled": true
   },
   "outputs": [
    {
     "name": "stdout",
     "output_type": "stream",
     "text": [
      "CUR SETUP FOR RANDOM STATE: {'reader_params': {'random_state': 42}}\n",
      "FOUND reader_params in kwargs, need to combine\n",
      "MERGED VARIANT FOR reader_params = {'cv': 5, 'random_state': 42}\n",
      "Start automl preset with listed constraints:\n",
      "- time: 299.9980001449585 seconds\n",
      "- cpus: 4 cores\n",
      "- memory: 16 gb\n",
      "\n",
      "\n",
      "Train data shape: (8000, 125)\n",
      "Feats was rejected during automatic roles guess: []\n",
      "\n",
      "\n",
      "Layer 1 ...\n",
      "Train process start. Time left 296.94696831703186 secs\n",
      "Start fitting Lvl_0_Pipe_0_Mod_0_LinearL2 ...\n",
      "Linear model: C = 1e-05 score = 0.6871107761224348\n",
      "Linear model: C = 5e-05 score = 0.7049836693020297\n",
      "Linear model: C = 0.0001 score = 0.7231478957187378\n",
      "Linear model: C = 0.0005 score = 0.7541949313362306\n",
      "Linear model: C = 0.001 score = 0.7612083112828818\n",
      "Linear model: C = 0.005 score = 0.7631915155208451\n",
      "Linear model: C = 0.01 score = 0.7601979996899572\n",
      "Linear model: C = 0.05 score = 0.7480421871909595\n",
      "Linear model: C = 1e-05 score = 0.7097380264945652\n",
      "Linear model: C = 5e-05 score = 0.7196522588315217\n",
      "Linear model: C = 0.0001 score = 0.726806640625\n",
      "Linear model: C = 0.0005 score = 0.7401706861413043\n",
      "Linear model: C = 0.001 score = 0.7423785665760869\n",
      "Linear model: C = 0.005 score = 0.7421025815217392\n",
      "Linear model: C = 0.01 score = 0.7413223930027175\n",
      "Linear model: C = 1e-05 score = 0.6369045091711957\n",
      "Linear model: C = 5e-05 score = 0.6511761209239131\n",
      "Linear model: C = 0.0001 score = 0.6631337041440217\n",
      "Linear model: C = 0.0005 score = 0.6919688349184784\n",
      "Linear model: C = 0.001 score = 0.7008268936820652\n",
      "Linear model: C = 0.005 score = 0.7105925186820653\n",
      "Linear model: C = 0.01 score = 0.7092497452445652\n",
      "Linear model: C = 0.05 score = 0.6996751868206522\n",
      "Linear model: C = 1e-05 score = 0.6700306768002717\n",
      "Linear model: C = 5e-05 score = 0.6780050526494567\n",
      "Linear model: C = 0.0001 score = 0.6857379415760869\n",
      "Linear model: C = 0.0005 score = 0.7090692934782608\n",
      "Linear model: C = 0.001 score = 0.7175027598505433\n",
      "Linear model: C = 0.005 score = 0.7229269276494565\n",
      "Linear model: C = 0.01 score = 0.7185536260190217\n",
      "Linear model: C = 0.05 score = 0.7009648862092391\n",
      "Linear model: C = 1e-05 score = 0.6853372325067935\n",
      "Linear model: C = 5e-05 score = 0.7022917374320652\n",
      "Linear model: C = 0.0001 score = 0.7166535750679347\n",
      "Linear model: C = 0.0005 score = 0.7460353685461957\n",
      "Linear model: C = 0.001 score = 0.7525316321331522\n",
      "Linear model: C = 0.005 score = 0.7510084069293479\n",
      "Linear model: C = 0.01 score = 0.7470596976902174\n",
      "Lvl_0_Pipe_0_Mod_0_LinearL2 fitting and predicting completed\n",
      "Time left 291.9998619556427\n",
      "Start fitting Lvl_0_Pipe_1_Mod_0_LightGBM ...\n",
      "Training until validation scores don't improve for 200 rounds\n",
      "[100]\tvalid's auc: 0.761208\n",
      "[200]\tvalid's auc: 0.760091\n",
      "[300]\tvalid's auc: 0.763742\n",
      "[400]\tvalid's auc: 0.762908\n",
      "[500]\tvalid's auc: 0.763935\n",
      "[600]\tvalid's auc: 0.76355\n",
      "[700]\tvalid's auc: 0.762641\n",
      "Early stopping, best iteration is:\n",
      "[529]\tvalid's auc: 0.765282\n",
      "Training until validation scores don't improve for 200 rounds\n",
      "[100]\tvalid's auc: 0.727831\n",
      "[200]\tvalid's auc: 0.730628\n",
      "[300]\tvalid's auc: 0.734911\n",
      "[400]\tvalid's auc: 0.73877\n",
      "[500]\tvalid's auc: 0.739353\n",
      "[600]\tvalid's auc: 0.737135\n",
      "Early stopping, best iteration is:\n",
      "[487]\tvalid's auc: 0.740128\n",
      "Training until validation scores don't improve for 200 rounds\n",
      "[100]\tvalid's auc: 0.718028\n",
      "[200]\tvalid's auc: 0.729901\n",
      "[300]\tvalid's auc: 0.731907\n",
      "[400]\tvalid's auc: 0.730049\n",
      "Early stopping, best iteration is:\n",
      "[288]\tvalid's auc: 0.732151\n",
      "Training until validation scores don't improve for 200 rounds\n",
      "[100]\tvalid's auc: 0.736854\n",
      "[200]\tvalid's auc: 0.738801\n",
      "[300]\tvalid's auc: 0.743488\n",
      "[400]\tvalid's auc: 0.747978\n",
      "[500]\tvalid's auc: 0.745579\n",
      "[600]\tvalid's auc: 0.746492\n",
      "Early stopping, best iteration is:\n",
      "[421]\tvalid's auc: 0.748838\n",
      "Training until validation scores don't improve for 200 rounds\n",
      "[100]\tvalid's auc: 0.75336\n",
      "[200]\tvalid's auc: 0.756931\n",
      "[300]\tvalid's auc: 0.757038\n",
      "[400]\tvalid's auc: 0.758901\n",
      "[500]\tvalid's auc: 0.760843\n",
      "[600]\tvalid's auc: 0.759734\n",
      "Early stopping, best iteration is:\n",
      "[495]\tvalid's auc: 0.76105\n",
      "Lvl_0_Pipe_1_Mod_0_LightGBM fitting and predicting completed\n",
      "Optuna may run 222.63524622917174 secs\n"
     ]
    },
    {
     "name": "stderr",
     "output_type": "stream",
     "text": [
      "[2020-12-29 19:54:37,909] (INFO): A new study created in memory with name: no-name-5731bd21-d12b-4008-9e4e-59db6e5a1485\n"
     ]
    },
    {
     "name": "stdout",
     "output_type": "stream",
     "text": [
      "Start fitting Lvl_0_Pipe_1_Mod_1_LightGBM ...\n",
      "Training until validation scores don't improve for 200 rounds\n",
      "[100]\tvalid's auc: 0.755023\n",
      "[200]\tvalid's auc: 0.757825\n",
      "[300]\tvalid's auc: 0.755419\n",
      "[400]\tvalid's auc: 0.755114\n",
      "Early stopping, best iteration is:\n",
      "[231]\tvalid's auc: 0.758846\n",
      "Lvl_0_Pipe_1_Mod_1_LightGBM fitting and predicting completed\n"
     ]
    },
    {
     "name": "stderr",
     "output_type": "stream",
     "text": [
      "[2020-12-29 19:54:41,995] (INFO): Trial 0 finished with value: 0.7588455720020741 and parameters: {'feature_fraction': 0.6872700594236812, 'num_leaves': 108}. Best is trial 0 with value: 0.7588455720020741.\n"
     ]
    },
    {
     "name": "stdout",
     "output_type": "stream",
     "text": [
      "Start fitting Lvl_0_Pipe_1_Mod_1_LightGBM ...\n",
      "Training until validation scores don't improve for 200 rounds\n",
      "[100]\tvalid's auc: 0.754708\n",
      "[200]\tvalid's auc: 0.760583\n",
      "[300]\tvalid's auc: 0.760134\n",
      "[400]\tvalid's auc: 0.759915\n",
      "[500]\tvalid's auc: 0.761011\n",
      "Early stopping, best iteration is:\n",
      "[323]\tvalid's auc: 0.761593\n",
      "Lvl_0_Pipe_1_Mod_1_LightGBM fitting and predicting completed\n"
     ]
    },
    {
     "name": "stderr",
     "output_type": "stream",
     "text": [
      "[2020-12-29 19:54:46,370] (INFO): Trial 1 finished with value: 0.7615931918897103 and parameters: {'feature_fraction': 0.5917173949330818, 'num_leaves': 87}. Best is trial 1 with value: 0.7615931918897103.\n"
     ]
    },
    {
     "name": "stdout",
     "output_type": "stream",
     "text": [
      "Start fitting Lvl_0_Pipe_1_Mod_1_LightGBM ...\n",
      "Training until validation scores don't improve for 200 rounds\n",
      "[100]\tvalid's auc: 0.75312\n",
      "[200]\tvalid's auc: 0.758209\n",
      "[300]\tvalid's auc: 0.759963\n",
      "[400]\tvalid's auc: 0.758375\n",
      "[500]\tvalid's auc: 0.760476\n",
      "[600]\tvalid's auc: 0.759225\n",
      "Early stopping, best iteration is:\n",
      "[489]\tvalid's auc: 0.760898\n",
      "Lvl_0_Pipe_1_Mod_1_LightGBM fitting and predicting completed\n"
     ]
    },
    {
     "name": "stderr",
     "output_type": "stream",
     "text": [
      "[2020-12-29 19:54:53,357] (INFO): Trial 2 finished with value: 0.7608982685718257 and parameters: {'feature_fraction': 0.7993292420985183, 'num_leaves': 118}. Best is trial 1 with value: 0.7615931918897103.\n"
     ]
    },
    {
     "name": "stdout",
     "output_type": "stream",
     "text": [
      "Start fitting Lvl_0_Pipe_1_Mod_1_LightGBM ...\n",
      "Training until validation scores don't improve for 200 rounds\n",
      "[100]\tvalid's auc: 0.762587\n",
      "[200]\tvalid's auc: 0.760946\n",
      "Early stopping, best iteration is:\n",
      "[48]\tvalid's auc: 0.764587\n",
      "Lvl_0_Pipe_1_Mod_1_LightGBM fitting and predicting completed\n"
     ]
    },
    {
     "name": "stderr",
     "output_type": "stream",
     "text": [
      "[2020-12-29 19:54:56,202] (INFO): Trial 3 finished with value: 0.7645867077205981 and parameters: {'feature_fraction': 0.7229163764267956, 'num_leaves': 230}. Best is trial 3 with value: 0.7645867077205981.\n"
     ]
    },
    {
     "name": "stdout",
     "output_type": "stream",
     "text": [
      "Start fitting Lvl_0_Pipe_1_Mod_1_LightGBM ...\n",
      "Training until validation scores don't improve for 200 rounds\n",
      "[100]\tvalid's auc: 0.756167\n",
      "[200]\tvalid's auc: 0.761133\n",
      "[300]\tvalid's auc: 0.758792\n",
      "Early stopping, best iteration is:\n",
      "[155]\tvalid's auc: 0.762539\n",
      "Lvl_0_Pipe_1_Mod_1_LightGBM fitting and predicting completed\n"
     ]
    },
    {
     "name": "stderr",
     "output_type": "stream",
     "text": [
      "[2020-12-29 19:54:59,428] (INFO): Trial 4 finished with value: 0.7625393567148303 and parameters: {'feature_fraction': 0.5290418060840998, 'num_leaves': 103}. Best is trial 3 with value: 0.7645867077205981.\n"
     ]
    },
    {
     "name": "stdout",
     "output_type": "stream",
     "text": [
      "Start fitting Lvl_0_Pipe_1_Mod_1_LightGBM ...\n",
      "Training until validation scores don't improve for 200 rounds\n",
      "[100]\tvalid's auc: 0.746011\n",
      "[200]\tvalid's auc: 0.74956\n",
      "Early stopping, best iteration is:\n",
      "[32]\tvalid's auc: 0.755922\n",
      "Lvl_0_Pipe_1_Mod_1_LightGBM fitting and predicting completed\n"
     ]
    },
    {
     "name": "stderr",
     "output_type": "stream",
     "text": [
      "[2020-12-29 19:55:01,559] (INFO): Trial 5 finished with value: 0.7559215485029749 and parameters: {'feature_fraction': 0.6668543055695109, 'num_leaves': 119}. Best is trial 3 with value: 0.7645867077205981.\n"
     ]
    },
    {
     "name": "stdout",
     "output_type": "stream",
     "text": [
      "Start fitting Lvl_0_Pipe_1_Mod_1_LightGBM ...\n",
      "Training until validation scores don't improve for 200 rounds\n",
      "[100]\tvalid's auc: 0.752885\n",
      "[200]\tvalid's auc: 0.757087\n",
      "[300]\tvalid's auc: 0.759172\n",
      "[400]\tvalid's auc: 0.757445\n",
      "Early stopping, best iteration is:\n",
      "[245]\tvalid's auc: 0.759947\n",
      "Lvl_0_Pipe_1_Mod_1_LightGBM fitting and predicting completed\n"
     ]
    },
    {
     "name": "stderr",
     "output_type": "stream",
     "text": [
      "[2020-12-29 19:55:06,335] (INFO): Trial 6 finished with value: 0.7599467581827221 and parameters: {'feature_fraction': 0.8540362888980227, 'num_leaves': 165}. Best is trial 3 with value: 0.7645867077205981.\n"
     ]
    },
    {
     "name": "stdout",
     "output_type": "stream",
     "text": [
      "Start fitting Lvl_0_Pipe_1_Mod_1_LightGBM ...\n",
      "Training until validation scores don't improve for 200 rounds\n",
      "[100]\tvalid's auc: 0.756167\n",
      "[200]\tvalid's auc: 0.761133\n",
      "[300]\tvalid's auc: 0.758792\n",
      "Early stopping, best iteration is:\n",
      "[155]\tvalid's auc: 0.762539\n",
      "Lvl_0_Pipe_1_Mod_1_LightGBM fitting and predicting completed\n"
     ]
    },
    {
     "name": "stderr",
     "output_type": "stream",
     "text": [
      "[2020-12-29 19:55:09,207] (INFO): Trial 7 finished with value: 0.7625393567148303 and parameters: {'feature_fraction': 0.5282057895135501, 'num_leaves': 103}. Best is trial 3 with value: 0.7645867077205981.\n"
     ]
    },
    {
     "name": "stdout",
     "output_type": "stream",
     "text": [
      "Start fitting Lvl_0_Pipe_1_Mod_1_LightGBM ...\n",
      "Training until validation scores don't improve for 100 rounds\n",
      "[100]\tvalid's auc: 0.744482\n",
      "Early stopping, best iteration is:\n",
      "[17]\tvalid's auc: 0.753527\n",
      "Training until validation scores don't improve for 100 rounds\n",
      "[100]\tvalid's auc: 0.723707\n",
      "[200]\tvalid's auc: 0.726005\n",
      "Early stopping, best iteration is:\n",
      "[142]\tvalid's auc: 0.728675\n",
      "Training until validation scores don't improve for 100 rounds\n",
      "[100]\tvalid's auc: 0.720772\n",
      "[200]\tvalid's auc: 0.720751\n",
      "Early stopping, best iteration is:\n",
      "[160]\tvalid's auc: 0.724386\n",
      "Training until validation scores don't improve for 100 rounds\n",
      "[100]\tvalid's auc: 0.738409\n",
      "[200]\tvalid's auc: 0.737623\n",
      "Early stopping, best iteration is:\n",
      "[116]\tvalid's auc: 0.742708\n",
      "Training until validation scores don't improve for 100 rounds\n",
      "[100]\tvalid's auc: 0.742235\n",
      "Early stopping, best iteration is:\n",
      "[29]\tvalid's auc: 0.750547\n",
      "Lvl_0_Pipe_1_Mod_1_LightGBM fitting and predicting completed\n",
      "Time left 233.20300555229187\n",
      "Blending: Optimization starts with equal weights and score 0.749536692448613\n",
      "Blending, iter 0: score = 0.7531245223154045, weights = [0.26854348 0.65972745 0.07172908]\n",
      "Blending, iter 1: score = 0.7532333732807871, weights = [0.3146011  0.618034   0.06736492]\n",
      "Blending, iter 2: score = 0.7532333732807871, weights = [0.3146011  0.618034   0.06736492]\n",
      "No score update. Terminated\n",
      "\n",
      "\n",
      "Automl preset training completed in 67.13 seconds.\n",
      "CUR SETUP FOR RANDOM STATE: {'reader_params': {'random_state': 43}}\n",
      "FOUND reader_params in kwargs, need to combine\n",
      "MERGED VARIANT FOR reader_params = {'cv': 5, 'random_state': 43}\n",
      "Start automl preset with listed constraints:\n",
      "- time: 232.84003734588623 seconds\n",
      "- cpus: 4 cores\n",
      "- memory: 16 gb\n",
      "\n",
      "\n",
      "Train data shape: (8000, 125)\n",
      "Feats was rejected during automatic roles guess: []\n",
      "\n",
      "\n",
      "Layer 1 ...\n",
      "Train process start. Time left 229.80593180656433 secs\n",
      "Start fitting Lvl_0_Pipe_0_Mod_0_LinearL2 ...\n",
      "Linear model: C = 1e-05 score = 0.6671691496811369\n",
      "Linear model: C = 5e-05 score = 0.6836762512628896\n",
      "Linear model: C = 0.0001 score = 0.697820613563834\n",
      "Linear model: C = 0.0005 score = 0.7269646284031197\n",
      "Linear model: C = 0.001 score = 0.7344751458002576\n",
      "Linear model: C = 0.005 score = 0.7409700060404874\n",
      "Linear model: C = 0.01 score = 0.7415045624388601\n",
      "Linear model: C = 0.05 score = 0.7401414436230095\n",
      "Linear model: C = 0.1 score = 0.7382598051007371\n",
      "Linear model: C = 1e-05 score = 0.6909179687500001\n",
      "Linear model: C = 5e-05 score = 0.6978733228600544\n",
      "Linear model: C = 0.0001 score = 0.7026473335597826\n",
      "Linear model: C = 0.0005 score = 0.7156557829483695\n",
      "Linear model: C = 0.001 score = 0.7172267747961957\n",
      "Linear model: C = 0.005 score = 0.7088888417119564\n",
      "Linear model: C = 0.01 score = 0.7022333559782609\n",
      "Linear model: C = 1e-05 score = 0.6663499915081522\n",
      "Linear model: C = 5e-05 score = 0.6762270720108695\n",
      "Linear model: C = 0.0001 score = 0.6844800866168478\n",
      "Linear model: C = 0.0005 score = 0.7055292544157608\n",
      "Linear model: C = 0.001 score = 0.7126252547554348\n",
      "Linear model: C = 0.005 score = 0.7175664487092392\n",
      "Linear model: C = 0.01 score = 0.7172639266304348\n",
      "Linear model: C = 0.05 score = 0.7133099099864131\n",
      "Linear model: C = 1e-05 score = 0.6777927564538044\n",
      "Linear model: C = 5e-05 score = 0.6980458135190217\n",
      "Linear model: C = 0.0001 score = 0.7149339758831521\n",
      "Linear model: C = 0.0005 score = 0.7413860818614132\n",
      "Linear model: C = 0.001 score = 0.747611667798913\n",
      "Linear model: C = 0.005 score = 0.7518947435461958\n",
      "Linear model: C = 0.01 score = 0.7512578549592392\n",
      "Linear model: C = 0.05 score = 0.7469588569972826\n",
      "Linear model: C = 1e-05 score = 0.6634096891983695\n",
      "Linear model: C = 5e-05 score = 0.6815132472826086\n",
      "Linear model: C = 0.0001 score = 0.6981891134510869\n",
      "Linear model: C = 0.0005 score = 0.7315992272418478\n",
      "Linear model: C = 0.001 score = 0.740059230638587\n",
      "Linear model: C = 0.005 score = 0.7455311650815217\n",
      "Linear model: C = 0.01 score = 0.7446023692255435\n",
      "Linear model: C = 0.05 score = 0.7378354279891305\n",
      "Lvl_0_Pipe_0_Mod_0_LinearL2 fitting and predicting completed\n",
      "Time left 224.85546398162842\n",
      "Start fitting LightGBM ...\n",
      "Training until validation scores don't improve for 200 rounds\n",
      "[100]\tvalid's auc: 0.720229\n",
      "[200]\tvalid's auc: 0.72604\n",
      "[300]\tvalid's auc: 0.727323\n",
      "[400]\tvalid's auc: 0.729199\n",
      "[500]\tvalid's auc: 0.729146\n",
      "Early stopping, best iteration is:\n",
      "[372]\tvalid's auc: 0.730119\n",
      "LightGBM fitting and predicting completed\n",
      "Start fitting Lvl_0_Pipe_1_Mod_0_LightGBM ...\n",
      "Training until validation scores don't improve for 200 rounds\n",
      "[100]\tvalid's auc: 0.724495\n",
      "[200]\tvalid's auc: 0.736758\n",
      "[300]\tvalid's auc: 0.740938\n",
      "[400]\tvalid's auc: 0.745022\n",
      "[500]\tvalid's auc: 0.745647\n",
      "[600]\tvalid's auc: 0.745556\n",
      "[700]\tvalid's auc: 0.74576\n",
      "[800]\tvalid's auc: 0.744434\n",
      "Early stopping, best iteration is:\n",
      "[665]\tvalid's auc: 0.746738\n",
      "Training until validation scores don't improve for 200 rounds\n",
      "[100]\tvalid's auc: 0.730087\n",
      "[200]\tvalid's auc: 0.727672\n",
      "[300]\tvalid's auc: 0.730448\n",
      "Early stopping, best iteration is:\n",
      "[103]\tvalid's auc: 0.73118\n",
      "Training until validation scores don't improve for 200 rounds\n",
      "[100]\tvalid's auc: 0.705715\n",
      "[200]\tvalid's auc: 0.719801\n",
      "[300]\tvalid's auc: 0.727056\n",
      "[400]\tvalid's auc: 0.728059\n",
      "[500]\tvalid's auc: 0.728287\n",
      "[600]\tvalid's auc: 0.728064\n",
      "[700]\tvalid's auc: 0.722884\n",
      "Early stopping, best iteration is:\n",
      "[524]\tvalid's auc: 0.729821\n",
      "Training until validation scores don't improve for 200 rounds\n",
      "[100]\tvalid's auc: 0.745271\n",
      "[200]\tvalid's auc: 0.746932\n",
      "[300]\tvalid's auc: 0.741397\n",
      "Early stopping, best iteration is:\n",
      "[105]\tvalid's auc: 0.747893\n",
      "Training until validation scores don't improve for 200 rounds\n",
      "[100]\tvalid's auc: 0.747543\n",
      "[200]\tvalid's auc: 0.748333\n",
      "Early stopping, best iteration is:\n",
      "[27]\tvalid's auc: 0.750281\n",
      "Lvl_0_Pipe_1_Mod_0_LightGBM fitting and predicting completed\n",
      "Optuna may run 159.4634907245636 secs\n"
     ]
    },
    {
     "name": "stderr",
     "output_type": "stream",
     "text": [
      "[2020-12-29 19:55:44,237] (INFO): A new study created in memory with name: no-name-6954bac7-2acc-40c2-a579-37eae98cd103\n"
     ]
    },
    {
     "name": "stdout",
     "output_type": "stream",
     "text": [
      "Start fitting Lvl_0_Pipe_1_Mod_1_LightGBM ...\n",
      "Training until validation scores don't improve for 200 rounds\n",
      "[100]\tvalid's auc: 0.722891\n",
      "[200]\tvalid's auc: 0.732075\n",
      "[300]\tvalid's auc: 0.737672\n",
      "[400]\tvalid's auc: 0.741788\n",
      "[500]\tvalid's auc: 0.739949\n",
      "[600]\tvalid's auc: 0.740163\n",
      "Early stopping, best iteration is:\n",
      "[409]\tvalid's auc: 0.742232\n",
      "Lvl_0_Pipe_1_Mod_1_LightGBM fitting and predicting completed\n"
     ]
    },
    {
     "name": "stderr",
     "output_type": "stream",
     "text": [
      "[2020-12-29 19:55:50,304] (INFO): Trial 0 finished with value: 0.7422315591406471 and parameters: {'feature_fraction': 0.6872700594236812, 'num_leaves': 108}. Best is trial 0 with value: 0.7422315591406471.\n"
     ]
    },
    {
     "name": "stdout",
     "output_type": "stream",
     "text": [
      "Start fitting Lvl_0_Pipe_1_Mod_1_LightGBM ...\n",
      "Training until validation scores don't improve for 200 rounds\n",
      "[100]\tvalid's auc: 0.731524\n",
      "[200]\tvalid's auc: 0.739447\n",
      "[300]\tvalid's auc: 0.74561\n",
      "[400]\tvalid's auc: 0.745086\n",
      "[500]\tvalid's auc: 0.747315\n",
      "[600]\tvalid's auc: 0.747449\n",
      "[700]\tvalid's auc: 0.7453\n",
      "Early stopping, best iteration is:\n",
      "[559]\tvalid's auc: 0.749026\n",
      "Lvl_0_Pipe_1_Mod_1_LightGBM fitting and predicting completed\n"
     ]
    },
    {
     "name": "stderr",
     "output_type": "stream",
     "text": [
      "[2020-12-29 19:56:00,780] (INFO): Trial 1 finished with value: 0.7490257709639655 and parameters: {'feature_fraction': 0.5917173949330818, 'num_leaves': 87}. Best is trial 1 with value: 0.7490257709639655.\n"
     ]
    },
    {
     "name": "stdout",
     "output_type": "stream",
     "text": [
      "Start fitting Lvl_0_Pipe_1_Mod_1_LightGBM ...\n",
      "Training until validation scores don't improve for 200 rounds\n",
      "[100]\tvalid's auc: 0.719347\n",
      "[200]\tvalid's auc: 0.727857\n",
      "[300]\tvalid's auc: 0.734507\n",
      "[400]\tvalid's auc: 0.736779\n",
      "[500]\tvalid's auc: 0.737586\n",
      "Early stopping, best iteration is:\n",
      "[338]\tvalid's auc: 0.738383\n",
      "Lvl_0_Pipe_1_Mod_1_LightGBM fitting and predicting completed\n"
     ]
    },
    {
     "name": "stderr",
     "output_type": "stream",
     "text": [
      "[2020-12-29 19:56:06,476] (INFO): Trial 2 finished with value: 0.7383827530723629 and parameters: {'feature_fraction': 0.7993292420985183, 'num_leaves': 118}. Best is trial 1 with value: 0.7490257709639655.\n"
     ]
    },
    {
     "name": "stdout",
     "output_type": "stream",
     "text": [
      "Start fitting Lvl_0_Pipe_1_Mod_1_LightGBM ...\n",
      "Training until validation scores don't improve for 200 rounds\n",
      "[100]\tvalid's auc: 0.728579\n",
      "[200]\tvalid's auc: 0.730984\n",
      "[300]\tvalid's auc: 0.736052\n",
      "[400]\tvalid's auc: 0.739815\n",
      "[500]\tvalid's auc: 0.739896\n",
      "[600]\tvalid's auc: 0.740836\n",
      "Early stopping, best iteration is:\n",
      "[427]\tvalid's auc: 0.7412\n",
      "Lvl_0_Pipe_1_Mod_1_LightGBM fitting and predicting completed\n"
     ]
    },
    {
     "name": "stderr",
     "output_type": "stream",
     "text": [
      "[2020-12-29 19:56:16,474] (INFO): Trial 3 finished with value: 0.7411998652917877 and parameters: {'feature_fraction': 0.7229163764267956, 'num_leaves': 230}. Best is trial 1 with value: 0.7490257709639655.\n"
     ]
    },
    {
     "name": "stdout",
     "output_type": "stream",
     "text": [
      "Start fitting Lvl_0_Pipe_1_Mod_1_LightGBM ...\n",
      "Training until validation scores don't improve for 100 rounds\n",
      "[100]\tvalid's auc: 0.734497\n",
      "[200]\tvalid's auc: 0.733465\n",
      "Early stopping, best iteration is:\n",
      "[116]\tvalid's auc: 0.738126\n",
      "Training until validation scores don't improve for 100 rounds\n",
      "[100]\tvalid's auc: 0.731037\n",
      "[200]\tvalid's auc: 0.733988\n",
      "[300]\tvalid's auc: 0.731498\n",
      "Early stopping, best iteration is:\n",
      "[232]\tvalid's auc: 0.73644\n",
      "Training until validation scores don't improve for 100 rounds\n",
      "[100]\tvalid's auc: 0.709244\n",
      "Early stopping, best iteration is:\n",
      "[74]\tvalid's auc: 0.71634\n",
      "Training until validation scores don't improve for 100 rounds\n",
      "[100]\tvalid's auc: 0.706994\n",
      "Early stopping, best iteration is:\n",
      "[51]\tvalid's auc: 0.715783\n",
      "Training until validation scores don't improve for 100 rounds\n",
      "[100]\tvalid's auc: 0.747813\n",
      "[200]\tvalid's auc: 0.748402\n",
      "Early stopping, best iteration is:\n",
      "[156]\tvalid's auc: 0.753184\n",
      "Lvl_0_Pipe_1_Mod_1_LightGBM fitting and predicting completed\n",
      "Time left 163.7410352230072\n",
      "Blending: Optimization starts with equal weights and score 0.7447489507681114\n",
      "Blending, iter 0: score = 0.7454003557640732, weights = [0.424963   0.22248714 0.3525499 ]\n",
      "Blending, iter 1: score = 0.7454084345466602, weights = [0.41863105 0.23407203 0.34729692]\n",
      "Blending, iter 2: score = 0.7454084345466602, weights = [0.41863105 0.23407203 0.34729692]\n",
      "No score update. Terminated\n",
      "\n",
      "\n",
      "Automl preset training completed in 69.44 seconds.\n",
      "CUR SETUP FOR RANDOM STATE: {'reader_params': {'random_state': 44}}\n",
      "FOUND reader_params in kwargs, need to combine\n",
      "MERGED VARIANT FOR reader_params = {'cv': 5, 'random_state': 44}\n",
      "Start automl preset with listed constraints:\n",
      "- time: 163.3699972629547 seconds\n",
      "- cpus: 4 cores\n",
      "- memory: 16 gb\n",
      "\n",
      "\n",
      "Train data shape: (8000, 125)\n",
      "\n",
      "\n",
      "Layer 1 ...\n",
      "Train process start. Time left 163.03399801254272 secs\n",
      "Start fitting Lvl_0_Pipe_0_Mod_0_LinearL2 ...\n",
      "Linear model: C = 1e-05 score = 0.683606758931101\n",
      "Linear model: C = 5e-05 score = 0.6982161852986299\n",
      "Linear model: C = 0.0001 score = 0.7110508844235611\n",
      "Linear model: C = 0.0005 score = 0.7335717454870077\n",
      "Linear model: C = 0.001 score = 0.7364690411661883\n",
      "Linear model: C = 0.005 score = 0.7344965280561925\n",
      "Linear model: C = 0.01 score = 0.7320001496757915\n",
      "Linear model: C = 1e-05 score = 0.6664136803668478\n",
      "Linear model: C = 5e-05 score = 0.6735521399456521\n",
      "Linear model: C = 0.0001 score = 0.6803084663722827\n",
      "Linear model: C = 0.0005 score = 0.6996486497961956\n",
      "Linear model: C = 0.001 score = 0.7061396059782609\n",
      "Linear model: C = 0.005 score = 0.7119034476902174\n",
      "Linear model: C = 0.01 score = 0.7093452785326088\n",
      "Linear model: C = 0.05 score = 0.699462890625\n",
      "Linear model: C = 1e-05 score = 0.6814177139945652\n",
      "Linear model: C = 5e-05 score = 0.692542034646739\n",
      "Linear model: C = 0.0001 score = 0.7027853260869565\n",
      "Linear model: C = 0.0005 score = 0.7245350713315217\n",
      "Linear model: C = 0.001 score = 0.7302033797554348\n",
      "Linear model: C = 0.005 score = 0.7308349609375\n",
      "Linear model: C = 0.01 score = 0.7282820991847826\n",
      "Linear model: C = 0.05 score = 0.7215098505434783\n",
      "Linear model: C = 1e-05 score = 0.6823040506114131\n",
      "Linear model: C = 5e-05 score = 0.697127632472826\n",
      "Linear model: C = 0.0001 score = 0.7087826936141305\n",
      "Linear model: C = 0.0005 score = 0.7354099439538043\n",
      "Linear model: C = 0.001 score = 0.7434612771739131\n",
      "Linear model: C = 0.005 score = 0.7508810292119567\n",
      "Linear model: C = 0.01 score = 0.7504086701766304\n",
      "Linear model: C = 0.05 score = 0.7468420940896738\n",
      "Linear model: C = 1e-05 score = 0.6738918138586957\n",
      "Linear model: C = 5e-05 score = 0.6886198624320652\n",
      "Linear model: C = 0.0001 score = 0.7016176970108696\n",
      "Linear model: C = 0.0005 score = 0.737023395040761\n",
      "Linear model: C = 0.001 score = 0.7472348420516304\n",
      "Linear model: C = 0.005 score = 0.7530782948369565\n",
      "Linear model: C = 0.01 score = 0.7522556470788043\n",
      "Linear model: C = 0.05 score = 0.7431109884510869\n",
      "Lvl_0_Pipe_0_Mod_0_LinearL2 fitting and predicting completed\n",
      "Time left 156.8900430202484\n",
      "Start fitting LightGBM ...\n",
      "Training until validation scores don't improve for 200 rounds\n",
      "[100]\tvalid's auc: 0.706448\n",
      "[200]\tvalid's auc: 0.715728\n",
      "[300]\tvalid's auc: 0.726345\n",
      "[400]\tvalid's auc: 0.727376\n",
      "[500]\tvalid's auc: 0.725703\n",
      "Early stopping, best iteration is:\n",
      "[337]\tvalid's auc: 0.727964\n",
      "LightGBM fitting and predicting completed\n",
      "Start fitting Lvl_0_Pipe_1_Mod_0_LightGBM ...\n",
      "Training until validation scores don't improve for 200 rounds\n",
      "[100]\tvalid's auc: 0.721763\n",
      "[200]\tvalid's auc: 0.722966\n",
      "[300]\tvalid's auc: 0.724586\n",
      "[400]\tvalid's auc: 0.727403\n",
      "[500]\tvalid's auc: 0.728755\n",
      "[600]\tvalid's auc: 0.729338\n",
      "[700]\tvalid's auc: 0.731706\n",
      "[800]\tvalid's auc: 0.7306\n",
      "[900]\tvalid's auc: 0.729525\n",
      "Early stopping, best iteration is:\n",
      "[744]\tvalid's auc: 0.732519\n",
      "Training until validation scores don't improve for 200 rounds\n",
      "[100]\tvalid's auc: 0.735787\n",
      "[200]\tvalid's auc: 0.743955\n",
      "[300]\tvalid's auc: 0.744459\n",
      "[400]\tvalid's auc: 0.74715\n",
      "[500]\tvalid's auc: 0.748546\n",
      "[600]\tvalid's auc: 0.746035\n",
      "Early stopping, best iteration is:\n",
      "[421]\tvalid's auc: 0.749958\n",
      "Training until validation scores don't improve for 200 rounds\n",
      "[100]\tvalid's auc: 0.74249\n",
      "[200]\tvalid's auc: 0.754267\n",
      "[300]\tvalid's auc: 0.758842\n",
      "[400]\tvalid's auc: 0.758439\n",
      "[500]\tvalid's auc: 0.758221\n",
      "Early stopping, best iteration is:\n",
      "[316]\tvalid's auc: 0.759516\n",
      "Training until validation scores don't improve for 200 rounds\n",
      "[100]\tvalid's auc: 0.747622\n",
      "[200]\tvalid's auc: 0.747707\n",
      "[300]\tvalid's auc: 0.749172\n",
      "[400]\tvalid's auc: 0.748949\n",
      "[500]\tvalid's auc: 0.746789\n",
      "Early stopping, best iteration is:\n",
      "[317]\tvalid's auc: 0.750637\n",
      "Training until validation scores don't improve for 200 rounds\n",
      "[100]\tvalid's auc: 0.744257\n",
      "[200]\tvalid's auc: 0.750133\n",
      "[300]\tvalid's auc: 0.756019\n",
      "[400]\tvalid's auc: 0.759819\n",
      "[500]\tvalid's auc: 0.76156\n",
      "[600]\tvalid's auc: 0.761623\n",
      "[700]\tvalid's auc: 0.763656\n",
      "[800]\tvalid's auc: 0.765514\n",
      "[900]\tvalid's auc: 0.766368\n",
      "[1000]\tvalid's auc: 0.767212\n",
      "[1100]\tvalid's auc: 0.766962\n",
      "[1200]\tvalid's auc: 0.76589\n",
      "Early stopping, best iteration is:\n",
      "[1012]\tvalid's auc: 0.767679\n",
      "Lvl_0_Pipe_1_Mod_0_LightGBM fitting and predicting completed\n",
      "Optuna may run 61.48161642551422 secs\n"
     ]
    },
    {
     "name": "stderr",
     "output_type": "stream",
     "text": [
      "[2020-12-29 19:57:07,544] (INFO): A new study created in memory with name: no-name-d62dfdf7-8071-4df5-8feb-d3ffa3abf7d8\n"
     ]
    },
    {
     "name": "stdout",
     "output_type": "stream",
     "text": [
      "Start fitting Lvl_0_Pipe_1_Mod_1_LightGBM ...\n",
      "Training until validation scores don't improve for 200 rounds\n",
      "[100]\tvalid's auc: 0.716156\n",
      "[200]\tvalid's auc: 0.72008\n",
      "[300]\tvalid's auc: 0.721865\n",
      "[400]\tvalid's auc: 0.724094\n",
      "[500]\tvalid's auc: 0.72411\n",
      "[600]\tvalid's auc: 0.725115\n",
      "[700]\tvalid's auc: 0.727082\n",
      "[800]\tvalid's auc: 0.7272\n",
      "[900]\tvalid's auc: 0.727168\n",
      "[1000]\tvalid's auc: 0.728258\n",
      "[1100]\tvalid's auc: 0.728745\n",
      "[1200]\tvalid's auc: 0.729285\n",
      "Early stopping, best iteration is:\n",
      "[1062]\tvalid's auc: 0.729595\n",
      "Lvl_0_Pipe_1_Mod_1_LightGBM fitting and predicting completed\n"
     ]
    },
    {
     "name": "stderr",
     "output_type": "stream",
     "text": [
      "[2020-12-29 19:57:24,055] (INFO): Trial 0 finished with value: 0.7295946458831138 and parameters: {'feature_fraction': 0.6872700594236812, 'num_leaves': 108}. Best is trial 0 with value: 0.7295946458831138.\n"
     ]
    },
    {
     "name": "stdout",
     "output_type": "stream",
     "text": [
      "Start fitting Lvl_0_Pipe_1_Mod_1_LightGBM ...\n",
      "Training until validation scores don't improve for 200 rounds\n",
      "[100]\tvalid's auc: 0.71808\n",
      "[200]\tvalid's auc: 0.726943\n",
      "[300]\tvalid's auc: 0.729039\n",
      "[400]\tvalid's auc: 0.731583\n",
      "[500]\tvalid's auc: 0.733294\n",
      "[600]\tvalid's auc: 0.732706\n",
      "Early stopping, best iteration is:\n",
      "[488]\tvalid's auc: 0.733839\n",
      "Lvl_0_Pipe_1_Mod_1_LightGBM fitting and predicting completed\n"
     ]
    },
    {
     "name": "stderr",
     "output_type": "stream",
     "text": [
      "[2020-12-29 19:57:31,521] (INFO): Trial 1 finished with value: 0.733839023686194 and parameters: {'feature_fraction': 0.5917173949330818, 'num_leaves': 87}. Best is trial 1 with value: 0.733839023686194.\n"
     ]
    },
    {
     "name": "stdout",
     "output_type": "stream",
     "text": [
      "Start fitting Lvl_0_Pipe_1_Mod_1_LightGBM ...\n",
      "Training until validation scores don't improve for 200 rounds\n",
      "[100]\tvalid's auc: 0.717508\n",
      "[200]\tvalid's auc: 0.724067\n",
      "[300]\tvalid's auc: 0.729883\n",
      "[400]\tvalid's auc: 0.729985\n",
      "[500]\tvalid's auc: 0.729338\n",
      "Early stopping, best iteration is:\n",
      "[373]\tvalid's auc: 0.730899\n",
      "Lvl_0_Pipe_1_Mod_1_LightGBM fitting and predicting completed\n"
     ]
    },
    {
     "name": "stderr",
     "output_type": "stream",
     "text": [
      "[2020-12-29 19:57:39,524] (INFO): Trial 2 finished with value: 0.7308989634951435 and parameters: {'feature_fraction': 0.7993292420985183, 'num_leaves': 118}. Best is trial 1 with value: 0.733839023686194.\n"
     ]
    },
    {
     "name": "stdout",
     "output_type": "stream",
     "text": [
      "Start fitting Lvl_0_Pipe_1_Mod_1_LightGBM ...\n",
      "Training until validation scores don't improve for 100 rounds\n",
      "[100]\tvalid's auc: 0.718748\n",
      "[200]\tvalid's auc: 0.728991\n",
      "[300]\tvalid's auc: 0.731305\n",
      "Early stopping, best iteration is:\n",
      "[279]\tvalid's auc: 0.732529\n",
      "Training until validation scores don't improve for 100 rounds\n",
      "[100]\tvalid's auc: 0.729869\n",
      "[200]\tvalid's auc: 0.729768\n",
      "[300]\tvalid's auc: 0.733122\n",
      "[400]\tvalid's auc: 0.731689\n",
      "Early stopping, best iteration is:\n",
      "[364]\tvalid's auc: 0.735012\n",
      "Training until validation scores don't improve for 100 rounds\n",
      "[100]\tvalid's auc: 0.736647\n",
      "[200]\tvalid's auc: 0.737119\n",
      "Early stopping, best iteration is:\n",
      "[129]\tvalid's auc: 0.739088\n",
      "Training until validation scores don't improve for 100 rounds\n",
      "[100]\tvalid's auc: 0.732831\n",
      "Early stopping, best iteration is:\n",
      "[34]\tvalid's auc: 0.740192\n",
      "Training until validation scores don't improve for 100 rounds\n",
      "[100]\tvalid's auc: 0.74162\n",
      "[200]\tvalid's auc: 0.7418\n",
      "Early stopping, best iteration is:\n",
      "[126]\tvalid's auc: 0.744576\n",
      "Lvl_0_Pipe_1_Mod_1_LightGBM fitting and predicting completed\n",
      "Time left 78.53260684013367\n",
      "Blending: Optimization starts with equal weights and score 0.7508477938226652\n",
      "Blending, iter 0: score = 0.7533135233080319, weights = [0.3958111  0.5500856  0.05410326]\n",
      "Blending, iter 1: score = 0.7533135233080319, weights = [0.3958111  0.5500856  0.05410326]\n",
      "No score update. Terminated\n",
      "\n",
      "\n",
      "Automl preset training completed in 85.07 seconds.\n",
      "CUR SETUP FOR RANDOM STATE: {'reader_params': {'random_state': 45}}\n",
      "FOUND reader_params in kwargs, need to combine\n",
      "MERGED VARIANT FOR reader_params = {'cv': 5, 'random_state': 45}\n",
      "Start automl preset with listed constraints:\n",
      "- time: 78.26760673522949 seconds\n",
      "- cpus: 4 cores\n",
      "- memory: 16 gb\n",
      "\n",
      "\n",
      "Train data shape: (8000, 125)\n",
      "Feats was rejected during automatic roles guess: []\n",
      "\n",
      "\n",
      "Layer 1 ...\n",
      "Train process start. Time left 75.15188193321228 secs\n",
      "Start fitting Lvl_0_Pipe_0_Mod_0_LinearL2 ...\n",
      "Linear model: C = 1e-05 score = 0.6498441768098744\n",
      "Linear model: C = 5e-05 score = 0.6692859930186935\n",
      "Linear model: C = 0.0001 score = 0.6859053514441042\n",
      "Linear model: C = 0.0005 score = 0.7249226229613355\n",
      "Linear model: C = 0.001 score = 0.7333044672878213\n",
      "Linear model: C = 0.005 score = 0.7341811397811525\n",
      "Linear model: C = 0.01 score = 0.7308294711633552\n",
      "Linear model: C = 0.05 score = 0.7237840178328014\n",
      "Linear model: C = 1e-05 score = 0.6956574813179347\n",
      "Linear model: C = 5e-05 score = 0.7101785411005435\n",
      "Linear model: C = 0.0001 score = 0.7208464249320652\n",
      "Linear model: C = 0.0005 score = 0.7438752547554348\n",
      "Linear model: C = 0.001 score = 0.7493418817934783\n",
      "Linear model: C = 0.005 score = 0.7510190217391305\n",
      "Linear model: C = 0.01 score = 0.7486784561820653\n",
      "Linear model: C = 0.05 score = 0.7427660071331521\n",
      "Linear model: C = 1e-05 score = 0.6515635614809783\n",
      "Linear model: C = 5e-05 score = 0.6675706946331522\n",
      "Linear model: C = 0.0001 score = 0.679390285326087\n",
      "Linear model: C = 0.0005 score = 0.7099290930706521\n",
      "Linear model: C = 0.001 score = 0.7209525730298912\n",
      "Linear model: C = 0.005 score = 0.7329579228940217\n",
      "Linear model: C = 0.01 score = 0.733849566915761\n",
      "Linear model: C = 0.05 score = 0.7287119989809784\n",
      "Linear model: C = 0.1 score = 0.7236221976902173\n",
      "Linear model: C = 1e-05 score = 0.6984067170516304\n",
      "Linear model: C = 5e-05 score = 0.7046323029891304\n",
      "Linear model: C = 0.0001 score = 0.7089896824048912\n",
      "Linear model: C = 0.0005 score = 0.7202360733695652\n",
      "Linear model: C = 0.001 score = 0.7233621348505436\n",
      "Linear model: C = 0.005 score = 0.7249172044836957\n",
      "Linear model: C = 0.01 score = 0.7239406419836957\n",
      "Linear model: C = 0.05 score = 0.7199441661005436\n",
      "Linear model: C = 1e-05 score = 0.6602491295855979\n",
      "Linear model: C = 5e-05 score = 0.6739979619565217\n",
      "Linear model: C = 0.0001 score = 0.6861147673233696\n",
      "Linear model: C = 0.0005 score = 0.7063731317934783\n",
      "Linear model: C = 0.001 score = 0.709801715353261\n",
      "Linear model: C = 0.005 score = 0.7103802224864131\n",
      "Linear model: C = 0.01 score = 0.709366508152174\n",
      "Linear model: C = 0.05 score = 0.705550484035326\n",
      "Lvl_0_Pipe_0_Mod_0_LinearL2 fitting and predicting completed\n",
      "Time left 69.42711019515991\n",
      "Start fitting LightGBM ...\n",
      "Training until validation scores don't improve for 200 rounds\n",
      "[100]\tvalid's auc: 0.70408\n",
      "[200]\tvalid's auc: 0.714477\n",
      "[300]\tvalid's auc: 0.71629\n",
      "[400]\tvalid's auc: 0.719513\n",
      "[500]\tvalid's auc: 0.719566\n",
      "[600]\tvalid's auc: 0.722196\n",
      "[700]\tvalid's auc: 0.718722\n",
      "[800]\tvalid's auc: 0.716899\n",
      "Early stopping, best iteration is:\n",
      "[640]\tvalid's auc: 0.722752\n",
      "LightGBM fitting and predicting completed\n",
      "Start fitting Lvl_0_Pipe_1_Mod_0_LightGBM ...\n",
      "Training until validation scores don't improve for 200 rounds\n",
      "[100]\tvalid's auc: 0.715365\n",
      "[200]\tvalid's auc: 0.72001\n",
      "[300]\tvalid's auc: 0.727611\n",
      "[400]\tvalid's auc: 0.729648\n",
      "[500]\tvalid's auc: 0.731086\n",
      "[600]\tvalid's auc: 0.732775\n",
      "[700]\tvalid's auc: 0.732283\n",
      "[800]\tvalid's auc: 0.733946\n",
      "[900]\tvalid's auc: 0.732893\n",
      "[1000]\tvalid's auc: 0.730546\n",
      "Early stopping, best iteration is:\n",
      "[818]\tvalid's auc: 0.734812\n",
      "Training until validation scores don't improve for 200 rounds\n",
      "[100]\tvalid's auc: 0.759543\n",
      "[200]\tvalid's auc: 0.760588\n",
      "[300]\tvalid's auc: 0.76727\n",
      "[400]\tvalid's auc: 0.765784\n",
      "[500]\tvalid's auc: 0.766405\n",
      "[600]\tvalid's auc: 0.76649\n",
      "Early stopping, best iteration is:\n",
      "[443]\tvalid's auc: 0.767583\n",
      "Training until validation scores don't improve for 200 rounds\n",
      "[100]\tvalid's auc: 0.739746\n",
      "[200]\tvalid's auc: 0.738467\n"
     ]
    },
    {
     "name": "stderr",
     "output_type": "stream",
     "text": [
      "Time limit exceeded after calculating fold 2\n"
     ]
    },
    {
     "name": "stdout",
     "output_type": "stream",
     "text": [
      "[300]\tvalid's auc: 0.737889\n",
      "Early stopping, best iteration is:\n",
      "[111]\tvalid's auc: 0.743122\n",
      "Lvl_0_Pipe_1_Mod_0_LightGBM fitting and predicting completed\n",
      "Optuna may run 4.23353991508484 secs\n"
     ]
    },
    {
     "name": "stderr",
     "output_type": "stream",
     "text": [
      "[2020-12-29 19:58:23,410] (INFO): A new study created in memory with name: no-name-1ff4c00a-9867-408d-946a-31f8cbf4299a\n"
     ]
    },
    {
     "name": "stdout",
     "output_type": "stream",
     "text": [
      "Start fitting Lvl_0_Pipe_1_Mod_1_LightGBM ...\n",
      "Training until validation scores don't improve for 200 rounds\n",
      "[100]\tvalid's auc: 0.720652\n",
      "[200]\tvalid's auc: 0.722319\n",
      "[300]\tvalid's auc: 0.727868\n",
      "[400]\tvalid's auc: 0.728296\n",
      "[500]\tvalid's auc: 0.727162\n",
      "Early stopping, best iteration is:\n",
      "[381]\tvalid's auc: 0.729611\n",
      "Lvl_0_Pipe_1_Mod_1_LightGBM fitting and predicting completed\n"
     ]
    },
    {
     "name": "stderr",
     "output_type": "stream",
     "text": [
      "[2020-12-29 19:58:32,559] (INFO): Trial 0 finished with value: 0.729610682575065 and parameters: {'feature_fraction': 0.6872700594236812, 'num_leaves': 108}. Best is trial 0 with value: 0.729610682575065.\n"
     ]
    },
    {
     "name": "stdout",
     "output_type": "stream",
     "text": [
      "Start fitting Lvl_0_Pipe_1_Mod_1_LightGBM ...\n",
      "Training until validation scores don't improve for 100 rounds\n",
      "[100]\tvalid's auc: 0.713141\n",
      "[200]\tvalid's auc: 0.71622\n",
      "Early stopping, best iteration is:\n",
      "[170]\tvalid's auc: 0.719727\n",
      "Training until validation scores don't improve for 100 rounds\n",
      "[100]\tvalid's auc: 0.763704\n",
      "[200]\tvalid's auc: 0.766368\n",
      "Early stopping, best iteration is:\n",
      "[140]\tvalid's auc: 0.769128\n",
      "Training until validation scores don't improve for 100 rounds\n",
      "[100]\tvalid's auc: 0.718623\n",
      "[200]\tvalid's auc: 0.723957\n",
      "[300]\tvalid's auc: 0.727969\n",
      "Early stopping, best iteration is:\n",
      "[279]\tvalid's auc: 0.728542\n",
      "Training until validation scores don't improve for 100 rounds\n",
      "[100]\tvalid's auc: 0.726196\n",
      "[200]\tvalid's auc: 0.71953\n",
      "Early stopping, best iteration is:\n",
      "[119]\tvalid's auc: 0.731185\n",
      "Training until validation scores don't improve for 100 rounds\n",
      "[100]\tvalid's auc: 0.7001\n",
      "[200]\tvalid's auc: 0.701888\n",
      "Early stopping, best iteration is:\n",
      "[174]\tvalid's auc: 0.703608\n",
      "Lvl_0_Pipe_1_Mod_1_LightGBM fitting and predicting completed\n",
      "Time left 24.679397583007812\n"
     ]
    },
    {
     "name": "stderr",
     "output_type": "stream",
     "text": [
      "Time limit exceeded in one of the tasks. AutoML will blend level 1 models.                                         \n",
      "Try to set higher time limits or use Profiler to find bottleneck and optimize Pipelines settings\n"
     ]
    },
    {
     "name": "stdout",
     "output_type": "stream",
     "text": [
      "Blending: Optimization starts with equal weights and score 0.7413122791755135\n",
      "Blending, iter 0: score = 0.7424197101885567, weights = [0.32361817 0.14539269 0.5309891 ]\n",
      "Blending, iter 1: score = 0.7424095054105521, weights = [0.3451426  0.14076588 0.5140915 ]\n",
      "Blending, iter 2: score = 0.7424095054105521, weights = [0.3451426  0.14076588 0.5140915 ]\n",
      "No score update. Terminated\n",
      "\n",
      "\n",
      "Automl preset training completed in 53.93 seconds.\n",
      "Blending: Optimization starts with equal weights and score 0.7552575335179122\n",
      "Blending, iter 0: score = 0.7577173102161094, weights = [0.37913635 0.08142336 0.5394403  0.        ]\n",
      "Blending, iter 1: score = 0.757830838371411, weights = [0.48130795 0.         0.518692   0.        ]\n",
      "Blending, iter 2: score = 0.757830838371411, weights = [0.48130795 0.         0.518692   0.        ]\n",
      "No score update. Terminated\n"
     ]
    },
    {
     "name": "stderr",
     "output_type": "stream",
     "text": [
      "[2020-12-29 19:58:46,686] (INFO): oof_pred:\n",
      "array([[0.03258627],\n",
      "       [0.03032798],\n",
      "       [0.0332821 ],\n",
      "       ...,\n",
      "       [0.02629477],\n",
      "       [0.1690769 ],\n",
      "       [0.09159414]], dtype=float32)\n",
      "Shape = (8000, 1)\n"
     ]
    },
    {
     "name": "stdout",
     "output_type": "stream",
     "text": [
      "Wall time: 4min 36s\n"
     ]
    }
   ],
   "source": [
    "%%time \n",
    "\n",
    "automl = TabularUtilizedAutoML(task = task, \n",
    "                       timeout = TIMEOUT,\n",
    "                       general_params = {'nested_cv': False, 'use_algos': [['linear_l2', 'lgb', 'lgb_tuned']]},\n",
    "                       reader_params = {'cv': N_FOLDS, 'random_state': RANDOM_STATE},\n",
    "                       tuning_params = {'max_tuning_iter': 20, 'max_tuning_time': 30},\n",
    "                       lgb_params = {'default_params': {'num_threads': N_THREADS}})\n",
    "oof_pred = automl.fit_predict(train_data, roles = roles)\n",
    "logging.info('oof_pred:\\n{}\\nShape = {}'.format(oof_pred, oof_pred.shape))"
   ]
  },
  {
   "cell_type": "markdown",
   "metadata": {},
   "source": [
    "## Step 7. Predict to test data and check scores for utilized automl"
   ]
  },
  {
   "cell_type": "code",
   "execution_count": 15,
   "metadata": {},
   "outputs": [
    {
     "name": "stderr",
     "output_type": "stream",
     "text": [
      "[2020-12-29 19:58:48,383] (INFO): Prediction for test data:\n",
      "array([[0.05990201],\n",
      "       [0.07784364],\n",
      "       [0.02795133],\n",
      "       ...,\n",
      "       [0.04760466],\n",
      "       [0.03866495],\n",
      "       [0.21747506]], dtype=float32)\n",
      "Shape = (2000, 1)\n",
      "[2020-12-29 19:58:48,384] (INFO): Check scores...\n",
      "[2020-12-29 19:58:48,388] (INFO): OOF score: 0.757830838371411\n",
      "[2020-12-29 19:58:48,392] (INFO): TEST score: 0.7345788043478262\n"
     ]
    },
    {
     "name": "stdout",
     "output_type": "stream",
     "text": [
      "Wall time: 1.69 s\n"
     ]
    }
   ],
   "source": [
    "%%time\n",
    "\n",
    "test_pred = automl.predict(test_data)\n",
    "logging.info('Prediction for test data:\\n{}\\nShape = {}'\n",
    "              .format(test_pred, test_pred.shape))\n",
    "\n",
    "logging.info('Check scores...')\n",
    "logging.info('OOF score: {}'.format(roc_auc_score(train_data[TARGET_NAME].values, oof_pred.data[:, 0])))\n",
    "logging.info('TEST score: {}'.format(roc_auc_score(test_data[TARGET_NAME].values, test_pred.data[:, 0])))"
   ]
  },
  {
   "cell_type": "markdown",
   "metadata": {},
   "source": [
    "## Step 8. Profiling utilized AutoML "
   ]
  },
  {
   "cell_type": "markdown",
   "metadata": {},
   "source": [
    "To build report here, we **must** turn on decorators on step 0.4. Report is interactive and you can go as deep into functions call stack as you want:"
   ]
  },
  {
   "cell_type": "code",
   "execution_count": 16,
   "metadata": {
    "scrolled": true
   },
   "outputs": [
    {
     "ename": "AssertionError",
     "evalue": "Profiler calls graph has more than 1 connected component but it must be a tree...",
     "output_type": "error",
     "traceback": [
      "\u001b[1;31m---------------------------------------------------------------------------\u001b[0m",
      "\u001b[1;31mAssertionError\u001b[0m                            Traceback (most recent call last)",
      "\u001b[1;32m<timed exec>\u001b[0m in \u001b[0;36m<module>\u001b[1;34m\u001b[0m\n",
      "\u001b[1;32mD:\\LightAutoML\\lightautoml\\utils\\profiler.py\u001b[0m in \u001b[0;36mprofile\u001b[1;34m(self, report_path)\u001b[0m\n\u001b[0;32m    275\u001b[0m         \u001b[1;32mif\u001b[0m \u001b[0mself\u001b[0m\u001b[1;33m.\u001b[0m\u001b[0mfull_stats_df\u001b[0m \u001b[1;32mis\u001b[0m \u001b[1;32mNone\u001b[0m\u001b[1;33m:\u001b[0m\u001b[1;33m\u001b[0m\u001b[1;33m\u001b[0m\u001b[0m\n\u001b[0;32m    276\u001b[0m             \u001b[1;32mreturn\u001b[0m\u001b[1;33m\u001b[0m\u001b[1;33m\u001b[0m\u001b[0m\n\u001b[1;32m--> 277\u001b[1;33m         \u001b[0mself\u001b[0m\u001b[1;33m.\u001b[0m\u001b[0m_generate_and_check_calls_graph\u001b[0m\u001b[1;33m(\u001b[0m\u001b[1;33m)\u001b[0m\u001b[1;33m\u001b[0m\u001b[1;33m\u001b[0m\u001b[0m\n\u001b[0m\u001b[0;32m    278\u001b[0m         \u001b[0mself\u001b[0m\u001b[1;33m.\u001b[0m\u001b[0m_create_html_report\u001b[0m\u001b[1;33m(\u001b[0m\u001b[0mreport_path\u001b[0m\u001b[1;33m)\u001b[0m\u001b[1;33m\u001b[0m\u001b[1;33m\u001b[0m\u001b[0m\n\u001b[0;32m    279\u001b[0m \u001b[1;33m\u001b[0m\u001b[0m\n",
      "\u001b[1;32mD:\\LightAutoML\\lightautoml\\utils\\profiler.py\u001b[0m in \u001b[0;36m_generate_and_check_calls_graph\u001b[1;34m(self)\u001b[0m\n\u001b[0;32m    207\u001b[0m         \u001b[0mcc\u001b[0m \u001b[1;33m=\u001b[0m \u001b[0mlist\u001b[0m\u001b[1;33m(\u001b[0m\u001b[0mnx\u001b[0m\u001b[1;33m.\u001b[0m\u001b[0mconnected_components\u001b[0m\u001b[1;33m(\u001b[0m\u001b[0mself\u001b[0m\u001b[1;33m.\u001b[0m\u001b[0mprof_graph\u001b[0m\u001b[1;33m)\u001b[0m\u001b[1;33m)\u001b[0m\u001b[1;33m\u001b[0m\u001b[1;33m\u001b[0m\u001b[0m\n\u001b[0;32m    208\u001b[0m         \u001b[0mlogger\u001b[0m\u001b[1;33m.\u001b[0m\u001b[0mdebug\u001b[0m\u001b[1;33m(\u001b[0m\u001b[1;34m'CONNECTED COMPONENTS cnt = {}'\u001b[0m\u001b[1;33m.\u001b[0m\u001b[0mformat\u001b[0m\u001b[1;33m(\u001b[0m\u001b[0mlen\u001b[0m\u001b[1;33m(\u001b[0m\u001b[0mcc\u001b[0m\u001b[1;33m)\u001b[0m\u001b[1;33m)\u001b[0m\u001b[1;33m)\u001b[0m\u001b[1;33m\u001b[0m\u001b[1;33m\u001b[0m\u001b[0m\n\u001b[1;32m--> 209\u001b[1;33m         assert len(\n\u001b[0m\u001b[0;32m    210\u001b[0m             cc) == 1, 'Profiler calls graph has more than 1 connected component but it must be a tree...'\n\u001b[0;32m    211\u001b[0m \u001b[1;33m\u001b[0m\u001b[0m\n",
      "\u001b[1;31mAssertionError\u001b[0m: Profiler calls graph has more than 1 connected component but it must be a tree..."
     ]
    }
   ],
   "source": [
    "%%time\n",
    "p.profile('my_report_profile.html')\n",
    "assert os.path.exists('my_report_profile.html'), 'Profile report failed to build'"
   ]
  },
  {
   "cell_type": "markdown",
   "metadata": {},
   "source": [
    "# Appendix. Profiling report screenshots "
   ]
  },
  {
   "cell_type": "markdown",
   "metadata": {},
   "source": [
    "After loading HTML with profiling report, you can see fully folded report (please wait for green LOAD OK text for full load finish). If you click on triangle on the left, it unfolds and look like this:  \n",
    "\n",
    "<img src=\"imgs/tutorial_2_initial_report.png\" alt=\"Initial profiling report\" style=\"width: 500px;\"/>\n",
    "\n",
    "If we go even deeper we will receive situation like this:\n",
    "\n",
    "<img src=\"imgs/tutorial_2_unfolded_report.png\" alt=\"Profiling report after several unfoldings on different levels\" style=\"width: 600px;\"/>\n"
   ]
  },
  {
   "cell_type": "code",
   "execution_count": null,
   "metadata": {},
   "outputs": [],
   "source": []
  }
 ],
 "metadata": {
  "kernelspec": {
   "display_name": "Python [conda env:automl]",
   "language": "python",
   "name": "conda-env-automl-py"
  },
  "language_info": {
   "codemirror_mode": {
    "name": "ipython",
    "version": 3
   },
   "file_extension": ".py",
   "mimetype": "text/x-python",
   "name": "python",
   "nbconvert_exporter": "python",
   "pygments_lexer": "ipython3",
   "version": "3.8.5"
  }
 },
 "nbformat": 4,
 "nbformat_minor": 4
}
